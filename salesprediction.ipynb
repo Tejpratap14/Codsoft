{
 "cells": [
  {
   "cell_type": "markdown",
   "id": "4effc38d",
   "metadata": {
    "papermill": {
     "duration": 0.008328,
     "end_time": "2023-01-28T14:45:10.805594",
     "exception": false,
     "start_time": "2023-01-28T14:45:10.797266",
     "status": "completed"
    },
    "tags": []
   },
   "source": [
    "Sales Prediction using simple linear regression "
   ]
  },
  {
   "cell_type": "code",
   "execution_count": 1,
   "id": "34e78779",
   "metadata": {
    "execution": {
     "iopub.execute_input": "2023-01-28T14:45:10.824917Z",
     "iopub.status.busy": "2023-01-28T14:45:10.824444Z",
     "iopub.status.idle": "2023-01-28T14:45:11.917474Z",
     "shell.execute_reply": "2023-01-28T14:45:11.916511Z"
    },
    "papermill": {
     "duration": 1.107492,
     "end_time": "2023-01-28T14:45:11.920413",
     "exception": false,
     "start_time": "2023-01-28T14:45:10.812921",
     "status": "completed"
    },
    "tags": []
   },
   "outputs": [],
   "source": [
    "import numpy as np\n",
    "import pandas as pd\n",
    "import matplotlib.pyplot as plt\n",
    "import seaborn as sns"
   ]
  },
  {
   "cell_type": "code",
   "execution_count": 2,
   "id": "64229483",
   "metadata": {
    "execution": {
     "iopub.execute_input": "2023-01-28T14:45:11.936960Z",
     "iopub.status.busy": "2023-01-28T14:45:11.935973Z",
     "iopub.status.idle": "2023-01-28T14:45:11.955033Z",
     "shell.execute_reply": "2023-01-28T14:45:11.954020Z"
    },
    "papermill": {
     "duration": 0.029975,
     "end_time": "2023-01-28T14:45:11.957570",
     "exception": false,
     "start_time": "2023-01-28T14:45:11.927595",
     "status": "completed"
    },
    "tags": []
   },
   "outputs": [],
   "source": [
    "adv = pd.read_csv(\"advertising.csv\")"
   ]
  },
  {
   "cell_type": "code",
   "execution_count": 3,
   "id": "b935ea0c",
   "metadata": {
    "execution": {
     "iopub.execute_input": "2023-01-28T14:45:11.973939Z",
     "iopub.status.busy": "2023-01-28T14:45:11.973506Z",
     "iopub.status.idle": "2023-01-28T14:45:11.998711Z",
     "shell.execute_reply": "2023-01-28T14:45:11.997665Z"
    },
    "papermill": {
     "duration": 0.03749,
     "end_time": "2023-01-28T14:45:12.002494",
     "exception": false,
     "start_time": "2023-01-28T14:45:11.965004",
     "status": "completed"
    },
    "tags": []
   },
   "outputs": [
    {
     "data": {
      "text/html": [
       "<div>\n",
       "<style scoped>\n",
       "    .dataframe tbody tr th:only-of-type {\n",
       "        vertical-align: middle;\n",
       "    }\n",
       "\n",
       "    .dataframe tbody tr th {\n",
       "        vertical-align: top;\n",
       "    }\n",
       "\n",
       "    .dataframe thead th {\n",
       "        text-align: right;\n",
       "    }\n",
       "</style>\n",
       "<table border=\"1\" class=\"dataframe\">\n",
       "  <thead>\n",
       "    <tr style=\"text-align: right;\">\n",
       "      <th></th>\n",
       "      <th>TV</th>\n",
       "      <th>Radio</th>\n",
       "      <th>Newspaper</th>\n",
       "      <th>Sales</th>\n",
       "    </tr>\n",
       "  </thead>\n",
       "  <tbody>\n",
       "    <tr>\n",
       "      <th>0</th>\n",
       "      <td>230.1</td>\n",
       "      <td>37.8</td>\n",
       "      <td>69.2</td>\n",
       "      <td>22.1</td>\n",
       "    </tr>\n",
       "    <tr>\n",
       "      <th>1</th>\n",
       "      <td>44.5</td>\n",
       "      <td>39.3</td>\n",
       "      <td>45.1</td>\n",
       "      <td>10.4</td>\n",
       "    </tr>\n",
       "    <tr>\n",
       "      <th>2</th>\n",
       "      <td>17.2</td>\n",
       "      <td>45.9</td>\n",
       "      <td>69.3</td>\n",
       "      <td>12.0</td>\n",
       "    </tr>\n",
       "    <tr>\n",
       "      <th>3</th>\n",
       "      <td>151.5</td>\n",
       "      <td>41.3</td>\n",
       "      <td>58.5</td>\n",
       "      <td>16.5</td>\n",
       "    </tr>\n",
       "    <tr>\n",
       "      <th>4</th>\n",
       "      <td>180.8</td>\n",
       "      <td>10.8</td>\n",
       "      <td>58.4</td>\n",
       "      <td>17.9</td>\n",
       "    </tr>\n",
       "  </tbody>\n",
       "</table>\n",
       "</div>"
      ],
      "text/plain": [
       "      TV  Radio  Newspaper  Sales\n",
       "0  230.1   37.8       69.2   22.1\n",
       "1   44.5   39.3       45.1   10.4\n",
       "2   17.2   45.9       69.3   12.0\n",
       "3  151.5   41.3       58.5   16.5\n",
       "4  180.8   10.8       58.4   17.9"
      ]
     },
     "execution_count": 3,
     "metadata": {},
     "output_type": "execute_result"
    }
   ],
   "source": [
    "adv.head()"
   ]
  },
  {
   "cell_type": "code",
   "execution_count": 4,
   "id": "a77c36d9",
   "metadata": {
    "execution": {
     "iopub.execute_input": "2023-01-28T14:45:12.044259Z",
     "iopub.status.busy": "2023-01-28T14:45:12.043848Z",
     "iopub.status.idle": "2023-01-28T14:45:12.067335Z",
     "shell.execute_reply": "2023-01-28T14:45:12.066158Z"
    },
    "papermill": {
     "duration": 0.035046,
     "end_time": "2023-01-28T14:45:12.069864",
     "exception": false,
     "start_time": "2023-01-28T14:45:12.034818",
     "status": "completed"
    },
    "tags": []
   },
   "outputs": [
    {
     "name": "stdout",
     "output_type": "stream",
     "text": [
      "<class 'pandas.core.frame.DataFrame'>\n",
      "RangeIndex: 200 entries, 0 to 199\n",
      "Data columns (total 4 columns):\n",
      " #   Column     Non-Null Count  Dtype  \n",
      "---  ------     --------------  -----  \n",
      " 0   TV         200 non-null    float64\n",
      " 1   Radio      200 non-null    float64\n",
      " 2   Newspaper  200 non-null    float64\n",
      " 3   Sales      200 non-null    float64\n",
      "dtypes: float64(4)\n",
      "memory usage: 6.4 KB\n"
     ]
    }
   ],
   "source": [
    "adv.info()"
   ]
  },
  {
   "cell_type": "code",
   "execution_count": 5,
   "id": "972fa707",
   "metadata": {
    "execution": {
     "iopub.execute_input": "2023-01-28T14:45:12.086967Z",
     "iopub.status.busy": "2023-01-28T14:45:12.086521Z",
     "iopub.status.idle": "2023-01-28T14:45:12.097991Z",
     "shell.execute_reply": "2023-01-28T14:45:12.097099Z"
    },
    "papermill": {
     "duration": 0.022529,
     "end_time": "2023-01-28T14:45:12.100049",
     "exception": false,
     "start_time": "2023-01-28T14:45:12.077520",
     "status": "completed"
    },
    "tags": []
   },
   "outputs": [
    {
     "data": {
      "text/plain": [
       "<bound method NDFrame.describe of         TV  Radio  Newspaper  Sales\n",
       "0    230.1   37.8       69.2   22.1\n",
       "1     44.5   39.3       45.1   10.4\n",
       "2     17.2   45.9       69.3   12.0\n",
       "3    151.5   41.3       58.5   16.5\n",
       "4    180.8   10.8       58.4   17.9\n",
       "..     ...    ...        ...    ...\n",
       "195   38.2    3.7       13.8    7.6\n",
       "196   94.2    4.9        8.1   14.0\n",
       "197  177.0    9.3        6.4   14.8\n",
       "198  283.6   42.0       66.2   25.5\n",
       "199  232.1    8.6        8.7   18.4\n",
       "\n",
       "[200 rows x 4 columns]>"
      ]
     },
     "execution_count": 5,
     "metadata": {},
     "output_type": "execute_result"
    }
   ],
   "source": [
    "adv.describe"
   ]
  },
  {
   "cell_type": "code",
   "execution_count": 6,
   "id": "64e703c8",
   "metadata": {
    "execution": {
     "iopub.execute_input": "2023-01-28T14:45:12.119009Z",
     "iopub.status.busy": "2023-01-28T14:45:12.117893Z",
     "iopub.status.idle": "2023-01-28T14:45:12.127018Z",
     "shell.execute_reply": "2023-01-28T14:45:12.126036Z"
    },
    "papermill": {
     "duration": 0.021491,
     "end_time": "2023-01-28T14:45:12.129196",
     "exception": false,
     "start_time": "2023-01-28T14:45:12.107705",
     "status": "completed"
    },
    "tags": []
   },
   "outputs": [
    {
     "data": {
      "text/plain": [
       "TV           0\n",
       "Radio        0\n",
       "Newspaper    0\n",
       "Sales        0\n",
       "dtype: int64"
      ]
     },
     "execution_count": 6,
     "metadata": {},
     "output_type": "execute_result"
    }
   ],
   "source": [
    "adv.isnull().sum()"
   ]
  },
  {
   "cell_type": "code",
   "execution_count": 7,
   "id": "2311c53c",
   "metadata": {
    "execution": {
     "iopub.execute_input": "2023-01-28T14:45:12.147036Z",
     "iopub.status.busy": "2023-01-28T14:45:12.146207Z",
     "iopub.status.idle": "2023-01-28T14:45:12.349808Z",
     "shell.execute_reply": "2023-01-28T14:45:12.348993Z"
    },
    "papermill": {
     "duration": 0.214916,
     "end_time": "2023-01-28T14:45:12.351995",
     "exception": false,
     "start_time": "2023-01-28T14:45:12.137079",
     "status": "completed"
    },
    "tags": []
   },
   "outputs": [
    {
     "data": {
      "text/plain": [
       "<Axes: >"
      ]
     },
     "execution_count": 7,
     "metadata": {},
     "output_type": "execute_result"
    },
    {
     "data": {
      "image/png": "[encoded data removed]",
      "text/plain": [
       "<Figure size 640x480 with 1 Axes>"
      ]
     },
     "metadata": {},
     "output_type": "display_data"
    }
   ],
   "source": [
    "# outlier analysis\n",
    "sns.boxplot(adv['TV'])"
   ]
  },
  {
   "cell_type": "code",
   "execution_count": 8,
   "id": "7be2c338",
   "metadata": {
    "execution": {
     "iopub.execute_input": "2023-01-28T14:45:12.370547Z",
     "iopub.status.busy": "2023-01-28T14:45:12.369912Z",
     "iopub.status.idle": "2023-01-28T14:45:12.534907Z",
     "shell.execute_reply": "2023-01-28T14:45:12.533818Z"
    },
    "papermill": {
     "duration": 0.177305,
     "end_time": "2023-01-28T14:45:12.537537",
     "exception": false,
     "start_time": "2023-01-28T14:45:12.360232",
     "status": "completed"
    },
    "tags": []
   },
   "outputs": [
    {
     "data": {
      "text/plain": [
       "<Axes: >"
      ]
     },
     "execution_count": 8,
     "metadata": {},
     "output_type": "execute_result"
    },
    {
     "data": {
      "image/png": "[encoded data removed]",
      "text/plain": [
       "<Figure size 640x480 with 1 Axes>"
      ]
     },
     "metadata": {},
     "output_type": "display_data"
    }
   ],
   "source": [
    "sns.boxplot(adv['Radio'])"
   ]
  },
  {
   "cell_type": "code",
   "execution_count": 9,
   "id": "d23eacc0",
   "metadata": {
    "execution": {
     "iopub.execute_input": "2023-01-28T14:45:12.556568Z",
     "iopub.status.busy": "2023-01-28T14:45:12.555705Z",
     "iopub.status.idle": "2023-01-28T14:45:12.721696Z",
     "shell.execute_reply": "2023-01-28T14:45:12.720517Z"
    },
    "papermill": {
     "duration": 0.178056,
     "end_time": "2023-01-28T14:45:12.724066",
     "exception": false,
     "start_time": "2023-01-28T14:45:12.546010",
     "status": "completed"
    },
    "tags": []
   },
   "outputs": [
    {
     "data": {
      "text/plain": [
       "<Axes: >"
      ]
     },
     "execution_count": 9,
     "metadata": {},
     "output_type": "execute_result"
    },
    {
     "data": {
      "image/png": "[encoded data removed]",
      "text/plain": [
       "<Figure size 640x480 with 1 Axes>"
      ]
     },
     "metadata": {},
     "output_type": "display_data"
    }
   ],
   "source": [
    "sns.boxplot(adv['Newspaper'])"
   ]
  },
  {
   "cell_type": "code",
   "execution_count": 10,
   "id": "7400decf",
   "metadata": {
    "execution": {
     "iopub.execute_input": "2023-01-28T14:45:12.743746Z",
     "iopub.status.busy": "2023-01-28T14:45:12.743105Z",
     "iopub.status.idle": "2023-01-28T14:45:12.901085Z",
     "shell.execute_reply": "2023-01-28T14:45:12.899811Z"
    },
    "papermill": {
     "duration": 0.170481,
     "end_time": "2023-01-28T14:45:12.903471",
     "exception": false,
     "start_time": "2023-01-28T14:45:12.732990",
     "status": "completed"
    },
    "tags": []
   },
   "outputs": [
    {
     "data": {
      "text/plain": [
       "<Axes: >"
      ]
     },
     "execution_count": 10,
     "metadata": {},
     "output_type": "execute_result"
    },
    {
     "data": {
      "image/png": "[encoded data removed]",
      "text/plain": [
       "<Figure size 640x480 with 1 Axes>"
      ]
     },
     "metadata": {},
     "output_type": "display_data"
    }
   ],
   "source": [
    "sns.boxplot(adv['Sales'])"
   ]
  },
  {
   "cell_type": "code",
   "execution_count": 11,
   "id": "d91d499f",
   "metadata": {
    "execution": {
     "iopub.execute_input": "2023-01-28T14:45:12.923911Z",
     "iopub.status.busy": "2023-01-28T14:45:12.923099Z",
     "iopub.status.idle": "2023-01-28T14:45:13.491962Z",
     "shell.execute_reply": "2023-01-28T14:45:13.491089Z"
    },
    "papermill": {
     "duration": 0.581497,
     "end_time": "2023-01-28T14:45:13.494214",
     "exception": false,
     "start_time": "2023-01-28T14:45:12.912717",
     "status": "completed"
    },
    "tags": []
   },
   "outputs": [
    {
     "data": {
      "text/plain": [
       "<seaborn.axisgrid.PairGrid at 0x203bd07f550>"
      ]
     },
     "execution_count": 11,
     "metadata": {},
     "output_type": "execute_result"
    },
    {
     "data": {
      "image/png": "[encoded data removed]",
      "text/plain": [
       "<Figure size 750x250 with 3 Axes>"
      ]
     },
     "metadata": {},
     "output_type": "display_data"
    }
   ],
   "source": [
    "sns.pairplot(adv,x_vars=['TV','Radio','Newspaper'],y_vars=['Sales'],kind='scatter')"
   ]
  },
  {
   "cell_type": "code",
   "execution_count": 12,
   "id": "b6dc226f",
   "metadata": {
    "execution": {
     "iopub.execute_input": "2023-01-28T14:45:13.514575Z",
     "iopub.status.busy": "2023-01-28T14:45:13.514213Z",
     "iopub.status.idle": "2023-01-28T14:45:13.780579Z",
     "shell.execute_reply": "2023-01-28T14:45:13.779829Z"
    },
    "papermill": {
     "duration": 0.278794,
     "end_time": "2023-01-28T14:45:13.782650",
     "exception": false,
     "start_time": "2023-01-28T14:45:13.503856",
     "status": "completed"
    },
    "tags": []
   },
   "outputs": [
    {
     "data": {
      "text/plain": [
       "<Axes: >"
      ]
     },
     "execution_count": 12,
     "metadata": {},
     "output_type": "execute_result"
    },
    {
     "data": {
      "image/png": "[encoded data removed]",
      "text/plain": [
       "<Figure size 640x480 with 2 Axes>"
      ]
     },
     "metadata": {},
     "output_type": "display_data"
    }
   ],
   "source": [
    "sns.heatmap(adv.corr(),annot=True)"
   ]
  },
  {
   "cell_type": "code",
   "execution_count": 13,
   "id": "5fef43fb",
   "metadata": {
    "execution": {
     "iopub.execute_input": "2023-01-28T14:45:13.824600Z",
     "iopub.status.busy": "2023-01-28T14:45:13.823915Z",
     "iopub.status.idle": "2023-01-28T14:45:13.829610Z",
     "shell.execute_reply": "2023-01-28T14:45:13.828820Z"
    },
    "papermill": {
     "duration": 0.018834,
     "end_time": "2023-01-28T14:45:13.831549",
     "exception": false,
     "start_time": "2023-01-28T14:45:13.812715",
     "status": "completed"
    },
    "tags": []
   },
   "outputs": [],
   "source": [
    "X = adv['TV'].values.reshape(-1,1)\n",
    "y = adv['Sales'].values.reshape(-1,1)"
   ]
  },
  {
   "cell_type": "code",
   "execution_count": 14,
   "id": "c7d97021",
   "metadata": {
    "execution": {
     "iopub.execute_input": "2023-01-28T14:45:13.853686Z",
     "iopub.status.busy": "2023-01-28T14:45:13.852599Z",
     "iopub.status.idle": "2023-01-28T14:45:14.039553Z",
     "shell.execute_reply": "2023-01-28T14:45:14.038175Z"
    },
    "papermill": {
     "duration": 0.200865,
     "end_time": "2023-01-28T14:45:14.042451",
     "exception": false,
     "start_time": "2023-01-28T14:45:13.841586",
     "status": "completed"
    },
    "tags": []
   },
   "outputs": [],
   "source": [
    "from sklearn.model_selection import train_test_split\n",
    "X_train,X_test,y_train,y_test = train_test_split(X,y,train_size=0.8,test_size=0.2)"
   ]
  },
  {
   "cell_type": "code",
   "execution_count": 15,
   "id": "770ec8d4",
   "metadata": {
    "execution": {
     "iopub.execute_input": "2023-01-28T14:45:14.063797Z",
     "iopub.status.busy": "2023-01-28T14:45:14.063399Z",
     "iopub.status.idle": "2023-01-28T14:45:14.135677Z",
     "shell.execute_reply": "2023-01-28T14:45:14.134550Z"
    },
    "papermill": {
     "duration": 0.086052,
     "end_time": "2023-01-28T14:45:14.138472",
     "exception": false,
     "start_time": "2023-01-28T14:45:14.052420",
     "status": "completed"
    },
    "tags": []
   },
   "outputs": [],
   "source": [
    "from sklearn.linear_model import LinearRegression"
   ]
  },
  {
   "cell_type": "code",
   "execution_count": 16,
   "id": "7a9a025f",
   "metadata": {
    "execution": {
     "iopub.execute_input": "2023-01-28T14:45:14.160749Z",
     "iopub.status.busy": "2023-01-28T14:45:14.159690Z",
     "iopub.status.idle": "2023-01-28T14:45:14.164828Z",
     "shell.execute_reply": "2023-01-28T14:45:14.164028Z"
    },
    "papermill": {
     "duration": 0.018381,
     "end_time": "2023-01-28T14:45:14.167062",
     "exception": false,
     "start_time": "2023-01-28T14:45:14.148681",
     "status": "completed"
    },
    "tags": []
   },
   "outputs": [],
   "source": [
    "regressor = LinearRegression()"
   ]
  },
  {
   "cell_type": "code",
   "execution_count": 17,
   "id": "25d543ce",
   "metadata": {
    "execution": {
     "iopub.execute_input": "2023-01-28T14:45:14.188645Z",
     "iopub.status.busy": "2023-01-28T14:45:14.188259Z",
     "iopub.status.idle": "2023-01-28T14:45:14.210382Z",
     "shell.execute_reply": "2023-01-28T14:45:14.209484Z"
    },
    "papermill": {
     "duration": 0.035076,
     "end_time": "2023-01-28T14:45:14.212308",
     "exception": false,
     "start_time": "2023-01-28T14:45:14.177232",
     "status": "completed"
    },
    "tags": []
   },
   "outputs": [
    {
     "data": {
      "text/html": [
       "<style>#sk-container-id-1 {color: black;background-color: white;}#sk-container-id-1 pre{padding: 0;}#sk-container-id-1 div.sk-toggleable {background-color: white;}#sk-container-id-1 label.sk-toggleable__label {cursor: pointer;display: block;width: 100%;margin-bottom: 0;padding: 0.3em;box-sizing: border-box;text-align: center;}#sk-container-id-1 label.sk-toggleable__label-arrow:before {content: \"▸\";float: left;margin-right: 0.25em;color: #696969;}#sk-container-id-1 label.sk-toggleable__label-arrow:hover:before {color: black;}#sk-container-id-1 div.sk-estimator:hover label.sk-toggleable__label-arrow:before {color: black;}#sk-container-id-1 div.sk-toggleable__content {max-height: 0;max-width: 0;overflow: hidden;text-align: left;background-color: #f0f8ff;}#sk-container-id-1 div.sk-toggleable__content pre {margin: 0.2em;color: black;border-radius: 0.25em;background-color: #f0f8ff;}#sk-container-id-1 input.sk-toggleable__control:checked~div.sk-toggleable__content {max-height: 200px;max-width: 100%;overflow: auto;}#sk-container-id-1 input.sk-toggleable__control:checked~label.sk-toggleable__label-arrow:before {content: \"▾\";}#sk-container-id-1 div.sk-estimator input.sk-toggleable__control:checked~label.sk-toggleable__label {background-color: #d4ebff;}#sk-container-id-1 div.sk-label input.sk-toggleable__control:checked~label.sk-toggleable__label {background-color: #d4ebff;}#sk-container-id-1 input.sk-hidden--visually {border: 0;clip: rect(1px 1px 1px 1px);clip: rect(1px, 1px, 1px, 1px);height: 1px;margin: -1px;overflow: hidden;padding: 0;position: absolute;width: 1px;}#sk-container-id-1 div.sk-estimator {font-family: monospace;background-color: #f0f8ff;border: 1px dotted black;border-radius: 0.25em;box-sizing: border-box;margin-bottom: 0.5em;}#sk-container-id-1 div.sk-estimator:hover {background-color: #d4ebff;}#sk-container-id-1 div.sk-parallel-item::after {content: \"\";width: 100%;border-bottom: 1px solid gray;flex-grow: 1;}#sk-container-id-1 div.sk-label:hover label.sk-toggleable__label {background-color: #d4ebff;}#sk-container-id-1 div.sk-serial::before {content: \"\";position: absolute;border-left: 1px solid gray;box-sizing: border-box;top: 0;bottom: 0;left: 50%;z-index: 0;}#sk-container-id-1 div.sk-serial {display: flex;flex-direction: column;align-items: center;background-color: white;padding-right: 0.2em;padding-left: 0.2em;position: relative;}#sk-container-id-1 div.sk-item {position: relative;z-index: 1;}#sk-container-id-1 div.sk-parallel {display: flex;align-items: stretch;justify-content: center;background-color: white;position: relative;}#sk-container-id-1 div.sk-item::before, #sk-container-id-1 div.sk-parallel-item::before {content: \"\";position: absolute;border-left: 1px solid gray;box-sizing: border-box;top: 0;bottom: 0;left: 50%;z-index: -1;}#sk-container-id-1 div.sk-parallel-item {display: flex;flex-direction: column;z-index: 1;position: relative;background-color: white;}#sk-container-id-1 div.sk-parallel-item:first-child::after {align-self: flex-end;width: 50%;}#sk-container-id-1 div.sk-parallel-item:last-child::after {align-self: flex-start;width: 50%;}#sk-container-id-1 div.sk-parallel-item:only-child::after {width: 0;}#sk-container-id-1 div.sk-dashed-wrapped {border: 1px dashed gray;margin: 0 0.4em 0.5em 0.4em;box-sizing: border-box;padding-bottom: 0.4em;background-color: white;}#sk-container-id-1 div.sk-label label {font-family: monospace;font-weight: bold;display: inline-block;line-height: 1.2em;}#sk-container-id-1 div.sk-label-container {text-align: center;}#sk-container-id-1 div.sk-container {/* jupyter's `normalize.less` sets `[hidden] { display: none; }` but bootstrap.min.css set `[hidden] { display: none !important; }` so we also need the `!important` here to be able to override the default hidden behavior on the sphinx rendered scikit-learn.org. See: https://github.com/scikit-learn/scikit-learn/issues/21755 */display: inline-block !important;position: relative;}#sk-container-id-1 div.sk-text-repr-fallback {display: none;}</style><div id=\"sk-container-id-1\" class=\"sk-top-container\"><div class=\"sk-text-repr-fallback\"><pre>LinearRegression()</pre><b>In a Jupyter environment, please rerun this cell to show the HTML representation or trust the notebook. <br />On GitHub, the HTML representation is unable to render, please try loading this page with nbviewer.org.</b></div><div class=\"sk-container\" hidden><div class=\"sk-item\"><div class=\"sk-estimator sk-toggleable\"><input class=\"sk-toggleable__control sk-hidden--visually\" id=\"sk-estimator-id-1\" type=\"checkbox\" checked><label for=\"sk-estimator-id-1\" class=\"sk-toggleable__label sk-toggleable__label-arrow\">LinearRegression</label><div class=\"sk-toggleable__content\"><pre>LinearRegression()</pre></div></div></div></div></div>"
      ],
      "text/plain": [
       "LinearRegression()"
      ]
     },
     "execution_count": 17,
     "metadata": {},
     "output_type": "execute_result"
    }
   ],
   "source": [
    "regressor.fit(X_train,y_train)"
   ]
  },
  {
   "cell_type": "code",
   "execution_count": 18,
   "id": "f69a3c26",
   "metadata": {
    "execution": {
     "iopub.execute_input": "2023-01-28T14:45:14.233572Z",
     "iopub.status.busy": "2023-01-28T14:45:14.233239Z",
     "iopub.status.idle": "2023-01-28T14:45:14.240438Z",
     "shell.execute_reply": "2023-01-28T14:45:14.239345Z"
    },
    "papermill": {
     "duration": 0.020433,
     "end_time": "2023-01-28T14:45:14.242861",
     "exception": false,
     "start_time": "2023-01-28T14:45:14.222428",
     "status": "completed"
    },
    "tags": []
   },
   "outputs": [
    {
     "name": "stdout",
     "output_type": "stream",
     "text": [
      "intercept: [6.99133028]\n",
      "coeffficient: [[0.05540477]]\n"
     ]
    }
   ],
   "source": [
    "print(\"intercept:\",regressor.intercept_)\n",
    "print(\"coeffficient:\",regressor.coef_)\n"
   ]
  },
  {
   "cell_type": "code",
   "execution_count": 19,
   "id": "ea3a3e2b",
   "metadata": {
    "execution": {
     "iopub.execute_input": "2023-01-28T14:45:14.264084Z",
     "iopub.status.busy": "2023-01-28T14:45:14.263741Z",
     "iopub.status.idle": "2023-01-28T14:45:14.464642Z",
     "shell.execute_reply": "2023-01-28T14:45:14.463352Z"
    },
    "papermill": {
     "duration": 0.214061,
     "end_time": "2023-01-28T14:45:14.466954",
     "exception": false,
     "start_time": "2023-01-28T14:45:14.252893",
     "status": "completed"
    },
    "tags": []
   },
   "outputs": [
    {
     "data": {
      "text/plain": [
       "[<matplotlib.lines.Line2D at 0x203bd0ea490>]"
      ]
     },
     "execution_count": 19,
     "metadata": {},
     "output_type": "execute_result"
    },
    {
     "data": {
      "image/png": "[encoded data removed]",
      "text/plain": [
       "<Figure size 640x480 with 1 Axes>"
      ]
     },
     "metadata": {},
     "output_type": "display_data"
    }
   ],
   "source": [
    "plt.scatter(X_train,y_train)\n",
    "plt.plot(X_train,0.056*X_train+6.859,'black')"
   ]
  },
  {
   "cell_type": "code",
   "execution_count": 20,
   "id": "cdcb99af",
   "metadata": {
    "execution": {
     "iopub.execute_input": "2023-01-28T14:45:14.490973Z",
     "iopub.status.busy": "2023-01-28T14:45:14.489985Z",
     "iopub.status.idle": "2023-01-28T14:45:14.495610Z",
     "shell.execute_reply": "2023-01-28T14:45:14.494757Z"
    },
    "papermill": {
     "duration": 0.019731,
     "end_time": "2023-01-28T14:45:14.497592",
     "exception": false,
     "start_time": "2023-01-28T14:45:14.477861",
     "status": "completed"
    },
    "tags": []
   },
   "outputs": [],
   "source": [
    "y_pred = regressor.predict(X_test)"
   ]
  },
  {
   "cell_type": "code",
   "execution_count": 21,
   "id": "bfc73da4",
   "metadata": {
    "execution": {
     "iopub.execute_input": "2023-01-28T14:45:14.520949Z",
     "iopub.status.busy": "2023-01-28T14:45:14.519915Z",
     "iopub.status.idle": "2023-01-28T14:45:14.711134Z",
     "shell.execute_reply": "2023-01-28T14:45:14.710334Z"
    },
    "papermill": {
     "duration": 0.204859,
     "end_time": "2023-01-28T14:45:14.713159",
     "exception": false,
     "start_time": "2023-01-28T14:45:14.508300",
     "status": "completed"
    },
    "tags": []
   },
   "outputs": [
    {
     "data": {
      "text/plain": [
       "[<matplotlib.lines.Line2D at 0x203bdaff290>]"
      ]
     },
     "execution_count": 21,
     "metadata": {},
     "output_type": "execute_result"
    },
    {
     "data": {
      "image/png": "[encoded data removed]",
      "text/plain": [
       "<Figure size 640x480 with 1 Axes>"
      ]
     },
     "metadata": {},
     "output_type": "display_data"
    }
   ],
   "source": [
    "plt.scatter(X_test,y_test)\n",
    "plt.plot(X_test,0.056*X_test+6.859,'black')"
   ]
  },
  {
   "cell_type": "code",
   "execution_count": 22,
   "id": "b453cb7a",
   "metadata": {
    "execution": {
     "iopub.execute_input": "2023-01-28T14:45:14.737001Z",
     "iopub.status.busy": "2023-01-28T14:45:14.736103Z",
     "iopub.status.idle": "2023-01-28T14:45:14.742431Z",
     "shell.execute_reply": "2023-01-28T14:45:14.740966Z"
    },
    "papermill": {
     "duration": 0.020839,
     "end_time": "2023-01-28T14:45:14.745105",
     "exception": false,
     "start_time": "2023-01-28T14:45:14.724266",
     "status": "completed"
    },
    "tags": []
   },
   "outputs": [
    {
     "name": "stdout",
     "output_type": "stream",
     "text": [
      "[[11.17439066]\n",
      " [22.74290732]\n",
      " [16.79797515]\n",
      " [19.20808279]\n",
      " [10.78101677]\n",
      " [17.69553248]\n",
      " [16.69270608]\n",
      " [ 8.30996388]\n",
      " [20.29401634]\n",
      " [10.90290727]\n",
      " [ 7.03011362]\n",
      " [15.38515343]\n",
      " [20.46577114]\n",
      " [22.51574775]\n",
      " [21.14170937]\n",
      " [11.21871448]\n",
      " [12.29356708]\n",
      " [20.75387596]\n",
      " [15.15245338]\n",
      " [19.40199949]\n",
      " [18.01133968]\n",
      " [ 9.37373553]\n",
      " [20.89238789]\n",
      " [20.27739491]\n",
      " [14.28813892]\n",
      " [23.41330508]\n",
      " [21.46859754]\n",
      " [21.68467615]\n",
      " [17.23567286]\n",
      " [20.38266398]\n",
      " [23.09749787]\n",
      " [ 7.42348751]\n",
      " [12.78666956]\n",
      " [14.76461997]\n",
      " [22.58223348]\n",
      " [13.07477438]\n",
      " [ 9.17981882]\n",
      " [12.68140049]\n",
      " [ 8.02739954]\n",
      " [22.332912  ]]\n"
     ]
    }
   ],
   "source": [
    "print(y_pred)"
   ]
  },
  {
   "cell_type": "code",
   "execution_count": 23,
   "id": "7d0c1285",
   "metadata": {
    "execution": {
     "iopub.execute_input": "2023-01-28T14:45:14.768200Z",
     "iopub.status.busy": "2023-01-28T14:45:14.767818Z",
     "iopub.status.idle": "2023-01-28T14:45:14.773100Z",
     "shell.execute_reply": "2023-01-28T14:45:14.771847Z"
    },
    "papermill": {
     "duration": 0.019201,
     "end_time": "2023-01-28T14:45:14.775362",
     "exception": false,
     "start_time": "2023-01-28T14:45:14.756161",
     "status": "completed"
    },
    "tags": []
   },
   "outputs": [],
   "source": [
    "from sklearn.metrics import mean_squared_error,mean_absolute_error,r2_score"
   ]
  },
  {
   "cell_type": "code",
   "execution_count": 24,
   "id": "8b1cdc0e",
   "metadata": {
    "execution": {
     "iopub.execute_input": "2023-01-28T14:45:14.798673Z",
     "iopub.status.busy": "2023-01-28T14:45:14.798281Z",
     "iopub.status.idle": "2023-01-28T14:45:14.805927Z",
     "shell.execute_reply": "2023-01-28T14:45:14.804967Z"
    },
    "papermill": {
     "duration": 0.021681,
     "end_time": "2023-01-28T14:45:14.807954",
     "exception": false,
     "start_time": "2023-01-28T14:45:14.786273",
     "status": "completed"
    },
    "tags": []
   },
   "outputs": [
    {
     "data": {
      "text/plain": [
       "7.150436814212014"
      ]
     },
     "execution_count": 24,
     "metadata": {},
     "output_type": "execute_result"
    }
   ],
   "source": [
    "mean_squared_error(y_test,y_pred)"
   ]
  },
  {
   "cell_type": "code",
   "execution_count": 25,
   "id": "89d3e989",
   "metadata": {
    "execution": {
     "iopub.execute_input": "2023-01-28T14:45:14.831935Z",
     "iopub.status.busy": "2023-01-28T14:45:14.831293Z",
     "iopub.status.idle": "2023-01-28T14:45:14.837429Z",
     "shell.execute_reply": "2023-01-28T14:45:14.836771Z"
    },
    "papermill": {
     "duration": 0.020204,
     "end_time": "2023-01-28T14:45:14.839266",
     "exception": false,
     "start_time": "2023-01-28T14:45:14.819062",
     "status": "completed"
    },
    "tags": []
   },
   "outputs": [
    {
     "data": {
      "text/plain": [
       "2.1750598973872877"
      ]
     },
     "execution_count": 25,
     "metadata": {},
     "output_type": "execute_result"
    }
   ],
   "source": [
    "mean_absolute_error(y_test,y_pred)"
   ]
  },
  {
   "cell_type": "code",
   "execution_count": 26,
   "id": "968b9ae9",
   "metadata": {
    "execution": {
     "iopub.execute_input": "2023-01-28T14:45:14.862907Z",
     "iopub.status.busy": "2023-01-28T14:45:14.862499Z",
     "iopub.status.idle": "2023-01-28T14:45:14.869201Z",
     "shell.execute_reply": "2023-01-28T14:45:14.868266Z"
    },
    "papermill": {
     "duration": 0.02082,
     "end_time": "2023-01-28T14:45:14.871218",
     "exception": false,
     "start_time": "2023-01-28T14:45:14.850398",
     "status": "completed"
    },
    "tags": []
   },
   "outputs": [
    {
     "data": {
      "text/plain": [
       "1.474808427351596"
      ]
     },
     "execution_count": 26,
     "metadata": {},
     "output_type": "execute_result"
    }
   ],
   "source": [
    "np.sqrt(mean_absolute_error(y_test,y_pred))"
   ]
  },
  {
   "cell_type": "code",
   "execution_count": 27,
   "id": "6282a235",
   "metadata": {
    "execution": {
     "iopub.execute_input": "2023-01-28T14:45:14.895341Z",
     "iopub.status.busy": "2023-01-28T14:45:14.894680Z",
     "iopub.status.idle": "2023-01-28T14:45:14.901214Z",
     "shell.execute_reply": "2023-01-28T14:45:14.900054Z"
    },
    "papermill": {
     "duration": 0.020736,
     "end_time": "2023-01-28T14:45:14.903256",
     "exception": false,
     "start_time": "2023-01-28T14:45:14.882520",
     "status": "completed"
    },
    "tags": []
   },
   "outputs": [
    {
     "data": {
      "text/plain": [
       "0.7849575147355398"
      ]
     },
     "execution_count": 27,
     "metadata": {},
     "output_type": "execute_result"
    }
   ],
   "source": [
    "r2_score(y_test,y_pred)"
   ]
  },
  {
   "cell_type": "code",
   "execution_count": 28,
   "id": "f59900b0",
   "metadata": {},
   "outputs": [
    {
     "data": {
      "image/png": "[encoded data removed]",
      "text/plain": [
       "<Figure size 640x480 with 1 Axes>"
      ]
     },
     "metadata": {},
     "output_type": "display_data"
    }
   ],
   "source": [
    "plt.scatter(X_train, y_train)\n",
    "plt.plot(X_train, 6.9487+ 0.055 * X_train, \"r\")\n",
    "plt.show()"
   ]
  },
  {
   "cell_type": "code",
   "execution_count": 29,
   "id": "aef4ffcd",
   "metadata": {},
   "outputs": [
    {
     "data": {
      "text/plain": [
       "array([[11.17439066],\n",
       "       [22.74290732],\n",
       "       [16.79797515],\n",
       "       [19.20808279],\n",
       "       [10.78101677],\n",
       "       [17.69553248],\n",
       "       [16.69270608],\n",
       "       [ 8.30996388],\n",
       "       [20.29401634],\n",
       "       [10.90290727],\n",
       "       [ 7.03011362],\n",
       "       [15.38515343],\n",
       "       [20.46577114],\n",
       "       [22.51574775],\n",
       "       [21.14170937],\n",
       "       [11.21871448],\n",
       "       [12.29356708],\n",
       "       [20.75387596],\n",
       "       [15.15245338],\n",
       "       [19.40199949],\n",
       "       [18.01133968],\n",
       "       [ 9.37373553],\n",
       "       [20.89238789],\n",
       "       [20.27739491],\n",
       "       [14.28813892],\n",
       "       [23.41330508],\n",
       "       [21.46859754],\n",
       "       [21.68467615],\n",
       "       [17.23567286],\n",
       "       [20.38266398],\n",
       "       [23.09749787],\n",
       "       [ 7.42348751],\n",
       "       [12.78666956],\n",
       "       [14.76461997],\n",
       "       [22.58223348],\n",
       "       [13.07477438],\n",
       "       [ 9.17981882],\n",
       "       [12.68140049],\n",
       "       [ 8.02739954],\n",
       "       [22.332912  ]])"
      ]
     },
     "execution_count": 29,
     "metadata": {},
     "output_type": "execute_result"
    }
   ],
   "source": [
    "y_pred"
   ]
  },
  {
   "cell_type": "code",
   "execution_count": 30,
   "id": "cc505b8c",
   "metadata": {},
   "outputs": [],
   "source": [
    "from sklearn.metrics import mean_squared_error\n",
    "from sklearn.metrics import r2_score"
   ]
  },
  {
   "cell_type": "code",
   "execution_count": 31,
   "id": "04bfabd3",
   "metadata": {},
   "outputs": [
    {
     "data": {
      "text/plain": [
       "2.6740300698032575"
      ]
     },
     "execution_count": 31,
     "metadata": {},
     "output_type": "execute_result"
    }
   ],
   "source": [
    "np.sqrt(mean_squared_error(y_test, y_pred))"
   ]
  },
  {
   "cell_type": "code",
   "execution_count": 32,
   "id": "3fef1092",
   "metadata": {},
   "outputs": [
    {
     "data": {
      "text/plain": [
       "0.7849575147355398"
      ]
     },
     "execution_count": 32,
     "metadata": {},
     "output_type": "execute_result"
    }
   ],
   "source": [
    "r_squared = r2_score(y_test, y_pred)\n",
    "r_squared"
   ]
  },
  {
   "cell_type": "code",
   "execution_count": 33,
   "id": "3ece76a0",
   "metadata": {},
   "outputs": [
    {
     "data": {
      "image/png": "[encoded data removed]",
      "text/plain": [
       "<Figure size 640x480 with 1 Axes>"
      ]
     },
     "metadata": {},
     "output_type": "display_data"
    }
   ],
   "source": [
    "plt.scatter(X_test, y_test)\n",
    "plt.plot(X_test, 6.9487+ 0.055 * X_test, \"r\")\n",
    "plt.show()"
   ]
  },
  {
   "cell_type": "markdown",
   "id": "c6675b45",
   "metadata": {
    "papermill": {
     "duration": 0.010935,
     "end_time": "2023-01-28T14:45:14.925435",
     "exception": false,
     "start_time": "2023-01-28T14:45:14.914500",
     "status": "completed"
    },
    "tags": []
   },
   "source": []
  }
 ],
 "metadata": {
  "kernelspec": {
   "display_name": "Python 3",
   "language": "python",
   "name": "python3"
  },
  "language_info": {
   "codemirror_mode": {
    "name": "ipython",
    "version": 3
   },
   "file_extension": ".py",
   "mimetype": "text/x-python",
   "name": "python",
   "nbconvert_exporter": "python",
   "pygments_lexer": "ipython3",
   "version": "3.11.4"
  },
  "papermill": {
   "default_parameters": {},
   "duration": 13.451252,
   "end_time": "2023-01-28T14:45:15.658339",
   "environment_variables": {},
   "exception": null,
   "input_path": "__notebook__.ipynb",
   "output_path": "__notebook__.ipynb",
   "parameters": {},
   "start_time": "2023-01-28T14:45:02.207087",
   "version": "2.3.4"
  }
 },
 "nbformat": 4,
 "nbformat_minor": 5
}
