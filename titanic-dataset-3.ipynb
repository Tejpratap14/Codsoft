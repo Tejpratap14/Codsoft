{
 "cells": [
  {
   "cell_type": "code",
   "execution_count": 2,
   "id": "14045230",
   "metadata": {
    "execution": {
     "iopub.execute_input": "2023-06-17T15:08:07.878666Z",
     "iopub.status.busy": "2023-06-17T15:08:07.878298Z",
     "iopub.status.idle": "2023-06-17T15:08:09.976583Z",
     "shell.execute_reply": "2023-06-17T15:08:09.975356Z"
    },
    "papermill": {
     "duration": 2.111826,
     "end_time": "2023-06-17T15:08:09.979176",
     "exception": false,
     "start_time": "2023-06-17T15:08:07.867350",
     "status": "completed"
    },
    "tags": []
   },
   "outputs": [],
   "source": [
    "import pandas as pd\n",
    "import numpy as np\n",
    "import matplotlib.pyplot as plt\n",
    "import seaborn as sns\n",
    "%matplotlib inline\n",
    "\n",
    "from sklearn.ensemble import RandomForestClassifier\n",
    "from sklearn.linear_model import LogisticRegression\n",
    "from sklearn.neighbors import KNeighborsClassifier\n",
    "from sklearn.tree import DecisionTreeClassifier\n",
    "from sklearn.svm import SVC\n",
    "\n",
    "import warnings\n",
    "warnings.filterwarnings(\"ignore\")"
   ]
  },
  {
   "cell_type": "code",
   "execution_count": 4,
   "id": "b6873898",
   "metadata": {
    "execution": {
     "iopub.execute_input": "2023-06-17T15:08:10.000308Z",
     "iopub.status.busy": "2023-06-17T15:08:09.999947Z",
     "iopub.status.idle": "2023-06-17T15:08:10.032372Z",
     "shell.execute_reply": "2023-06-17T15:08:10.031084Z"
    },
    "papermill": {
     "duration": 0.04618,
     "end_time": "2023-06-17T15:08:10.034960",
     "exception": false,
     "start_time": "2023-06-17T15:08:09.988780",
     "status": "completed"
    },
    "tags": []
   },
   "outputs": [],
   "source": [
    "train = pd.read_csv(\"train.csv\")\n",
    "test = pd.read_csv(\"test.csv\")"
   ]
  },
  {
   "cell_type": "code",
   "execution_count": 5,
   "id": "12ca07f7",
   "metadata": {
    "execution": {
     "iopub.execute_input": "2023-06-17T15:08:10.058064Z",
     "iopub.status.busy": "2023-06-17T15:08:10.057188Z",
     "iopub.status.idle": "2023-06-17T15:08:10.091978Z",
     "shell.execute_reply": "2023-06-17T15:08:10.090949Z"
    },
    "papermill": {
     "duration": 0.049577,
     "end_time": "2023-06-17T15:08:10.094321",
     "exception": false,
     "start_time": "2023-06-17T15:08:10.044744",
     "status": "completed"
    },
    "tags": []
   },
   "outputs": [
    {
     "data": {
      "text/html": [
       "<div>\n",
       "<style scoped>\n",
       "    .dataframe tbody tr th:only-of-type {\n",
       "        vertical-align: middle;\n",
       "    }\n",
       "\n",
       "    .dataframe tbody tr th {\n",
       "        vertical-align: top;\n",
       "    }\n",
       "\n",
       "    .dataframe thead th {\n",
       "        text-align: right;\n",
       "    }\n",
       "</style>\n",
       "<table border=\"1\" class=\"dataframe\">\n",
       "  <thead>\n",
       "    <tr style=\"text-align: right;\">\n",
       "      <th></th>\n",
       "      <th>PassengerId</th>\n",
       "      <th>Survived</th>\n",
       "      <th>Pclass</th>\n",
       "      <th>Name</th>\n",
       "      <th>Sex</th>\n",
       "      <th>Age</th>\n",
       "      <th>SibSp</th>\n",
       "      <th>Parch</th>\n",
       "      <th>Ticket</th>\n",
       "      <th>Fare</th>\n",
       "      <th>Cabin</th>\n",
       "      <th>Embarked</th>\n",
       "    </tr>\n",
       "  </thead>\n",
       "  <tbody>\n",
       "    <tr>\n",
       "      <th>0</th>\n",
       "      <td>1</td>\n",
       "      <td>0</td>\n",
       "      <td>3</td>\n",
       "      <td>Braund, Mr. Owen Harris</td>\n",
       "      <td>male</td>\n",
       "      <td>22.0</td>\n",
       "      <td>1</td>\n",
       "      <td>0</td>\n",
       "      <td>A/5 21171</td>\n",
       "      <td>7.2500</td>\n",
       "      <td>NaN</td>\n",
       "      <td>S</td>\n",
       "    </tr>\n",
       "    <tr>\n",
       "      <th>1</th>\n",
       "      <td>2</td>\n",
       "      <td>1</td>\n",
       "      <td>1</td>\n",
       "      <td>Cumings, Mrs. John Bradley (Florence Briggs Th...</td>\n",
       "      <td>female</td>\n",
       "      <td>38.0</td>\n",
       "      <td>1</td>\n",
       "      <td>0</td>\n",
       "      <td>PC 17599</td>\n",
       "      <td>71.2833</td>\n",
       "      <td>C85</td>\n",
       "      <td>C</td>\n",
       "    </tr>\n",
       "    <tr>\n",
       "      <th>2</th>\n",
       "      <td>3</td>\n",
       "      <td>1</td>\n",
       "      <td>3</td>\n",
       "      <td>Heikkinen, Miss. Laina</td>\n",
       "      <td>female</td>\n",
       "      <td>26.0</td>\n",
       "      <td>0</td>\n",
       "      <td>0</td>\n",
       "      <td>STON/O2. 3101282</td>\n",
       "      <td>7.9250</td>\n",
       "      <td>NaN</td>\n",
       "      <td>S</td>\n",
       "    </tr>\n",
       "    <tr>\n",
       "      <th>3</th>\n",
       "      <td>4</td>\n",
       "      <td>1</td>\n",
       "      <td>1</td>\n",
       "      <td>Futrelle, Mrs. Jacques Heath (Lily May Peel)</td>\n",
       "      <td>female</td>\n",
       "      <td>35.0</td>\n",
       "      <td>1</td>\n",
       "      <td>0</td>\n",
       "      <td>113803</td>\n",
       "      <td>53.1000</td>\n",
       "      <td>C123</td>\n",
       "      <td>S</td>\n",
       "    </tr>\n",
       "    <tr>\n",
       "      <th>4</th>\n",
       "      <td>5</td>\n",
       "      <td>0</td>\n",
       "      <td>3</td>\n",
       "      <td>Allen, Mr. William Henry</td>\n",
       "      <td>male</td>\n",
       "      <td>35.0</td>\n",
       "      <td>0</td>\n",
       "      <td>0</td>\n",
       "      <td>373450</td>\n",
       "      <td>8.0500</td>\n",
       "      <td>NaN</td>\n",
       "      <td>S</td>\n",
       "    </tr>\n",
       "  </tbody>\n",
       "</table>\n",
       "</div>"
      ],
      "text/plain": [
       "   PassengerId  Survived  Pclass  \\\n",
       "0            1         0       3   \n",
       "1            2         1       1   \n",
       "2            3         1       3   \n",
       "3            4         1       1   \n",
       "4            5         0       3   \n",
       "\n",
       "                                                Name     Sex   Age  SibSp  \\\n",
       "0                            Braund, Mr. Owen Harris    male  22.0      1   \n",
       "1  Cumings, Mrs. John Bradley (Florence Briggs Th...  female  38.0      1   \n",
       "2                             Heikkinen, Miss. Laina  female  26.0      0   \n",
       "3       Futrelle, Mrs. Jacques Heath (Lily May Peel)  female  35.0      1   \n",
       "4                           Allen, Mr. William Henry    male  35.0      0   \n",
       "\n",
       "   Parch            Ticket     Fare Cabin Embarked  \n",
       "0      0         A/5 21171   7.2500   NaN        S  \n",
       "1      0          PC 17599  71.2833   C85        C  \n",
       "2      0  STON/O2. 3101282   7.9250   NaN        S  \n",
       "3      0            113803  53.1000  C123        S  \n",
       "4      0            373450   8.0500   NaN        S  "
      ]
     },
     "execution_count": 5,
     "metadata": {},
     "output_type": "execute_result"
    }
   ],
   "source": [
    "train.head()"
   ]
  },
  {
   "cell_type": "code",
   "execution_count": 43,
   "id": "85e90bc8",
   "metadata": {},
   "outputs": [
    {
     "data": {
      "text/html": [
       "<div>\n",
       "<style scoped>\n",
       "    .dataframe tbody tr th:only-of-type {\n",
       "        vertical-align: middle;\n",
       "    }\n",
       "\n",
       "    .dataframe tbody tr th {\n",
       "        vertical-align: top;\n",
       "    }\n",
       "\n",
       "    .dataframe thead th {\n",
       "        text-align: right;\n",
       "    }\n",
       "</style>\n",
       "<table border=\"1\" class=\"dataframe\">\n",
       "  <thead>\n",
       "    <tr style=\"text-align: right;\">\n",
       "      <th></th>\n",
       "      <th>PassengerId</th>\n",
       "      <th>Survived</th>\n",
       "      <th>Pclass</th>\n",
       "      <th>Sex</th>\n",
       "      <th>Age</th>\n",
       "      <th>SibSp</th>\n",
       "      <th>Parch</th>\n",
       "      <th>Embarked</th>\n",
       "      <th>AgeGroup</th>\n",
       "      <th>Title</th>\n",
       "    </tr>\n",
       "  </thead>\n",
       "  <tbody>\n",
       "    <tr>\n",
       "      <th>count</th>\n",
       "      <td>891.000000</td>\n",
       "      <td>891.000000</td>\n",
       "      <td>891.000000</td>\n",
       "      <td>891.000000</td>\n",
       "      <td>891.000000</td>\n",
       "      <td>891.000000</td>\n",
       "      <td>891.000000</td>\n",
       "      <td>891.000000</td>\n",
       "      <td>891.000000</td>\n",
       "      <td>891.000000</td>\n",
       "    </tr>\n",
       "    <tr>\n",
       "      <th>mean</th>\n",
       "      <td>446.000000</td>\n",
       "      <td>0.383838</td>\n",
       "      <td>2.308642</td>\n",
       "      <td>0.647587</td>\n",
       "      <td>23.699966</td>\n",
       "      <td>0.523008</td>\n",
       "      <td>0.381594</td>\n",
       "      <td>1.536476</td>\n",
       "      <td>3.640853</td>\n",
       "      <td>1.751964</td>\n",
       "    </tr>\n",
       "    <tr>\n",
       "      <th>std</th>\n",
       "      <td>257.353842</td>\n",
       "      <td>0.486592</td>\n",
       "      <td>0.836071</td>\n",
       "      <td>0.477990</td>\n",
       "      <td>17.731181</td>\n",
       "      <td>1.102743</td>\n",
       "      <td>0.806057</td>\n",
       "      <td>0.791503</td>\n",
       "      <td>2.434091</td>\n",
       "      <td>1.112838</td>\n",
       "    </tr>\n",
       "    <tr>\n",
       "      <th>min</th>\n",
       "      <td>1.000000</td>\n",
       "      <td>0.000000</td>\n",
       "      <td>1.000000</td>\n",
       "      <td>0.000000</td>\n",
       "      <td>-0.500000</td>\n",
       "      <td>0.000000</td>\n",
       "      <td>0.000000</td>\n",
       "      <td>0.000000</td>\n",
       "      <td>0.000000</td>\n",
       "      <td>1.000000</td>\n",
       "    </tr>\n",
       "    <tr>\n",
       "      <th>25%</th>\n",
       "      <td>223.500000</td>\n",
       "      <td>0.000000</td>\n",
       "      <td>2.000000</td>\n",
       "      <td>0.000000</td>\n",
       "      <td>6.000000</td>\n",
       "      <td>0.000000</td>\n",
       "      <td>0.000000</td>\n",
       "      <td>1.000000</td>\n",
       "      <td>1.000000</td>\n",
       "      <td>1.000000</td>\n",
       "    </tr>\n",
       "    <tr>\n",
       "      <th>50%</th>\n",
       "      <td>446.000000</td>\n",
       "      <td>0.000000</td>\n",
       "      <td>3.000000</td>\n",
       "      <td>1.000000</td>\n",
       "      <td>24.000000</td>\n",
       "      <td>0.000000</td>\n",
       "      <td>0.000000</td>\n",
       "      <td>2.000000</td>\n",
       "      <td>4.000000</td>\n",
       "      <td>1.000000</td>\n",
       "    </tr>\n",
       "    <tr>\n",
       "      <th>75%</th>\n",
       "      <td>668.500000</td>\n",
       "      <td>1.000000</td>\n",
       "      <td>3.000000</td>\n",
       "      <td>1.000000</td>\n",
       "      <td>35.000000</td>\n",
       "      <td>1.000000</td>\n",
       "      <td>0.000000</td>\n",
       "      <td>2.000000</td>\n",
       "      <td>6.000000</td>\n",
       "      <td>2.000000</td>\n",
       "    </tr>\n",
       "    <tr>\n",
       "      <th>max</th>\n",
       "      <td>891.000000</td>\n",
       "      <td>1.000000</td>\n",
       "      <td>3.000000</td>\n",
       "      <td>1.000000</td>\n",
       "      <td>80.000000</td>\n",
       "      <td>8.000000</td>\n",
       "      <td>6.000000</td>\n",
       "      <td>2.000000</td>\n",
       "      <td>6.000000</td>\n",
       "      <td>6.000000</td>\n",
       "    </tr>\n",
       "  </tbody>\n",
       "</table>\n",
       "</div>"
      ],
      "text/plain": [
       "       PassengerId    Survived      Pclass         Sex         Age  \\\n",
       "count   891.000000  891.000000  891.000000  891.000000  891.000000   \n",
       "mean    446.000000    0.383838    2.308642    0.647587   23.699966   \n",
       "std     257.353842    0.486592    0.836071    0.477990   17.731181   \n",
       "min       1.000000    0.000000    1.000000    0.000000   -0.500000   \n",
       "25%     223.500000    0.000000    2.000000    0.000000    6.000000   \n",
       "50%     446.000000    0.000000    3.000000    1.000000   24.000000   \n",
       "75%     668.500000    1.000000    3.000000    1.000000   35.000000   \n",
       "max     891.000000    1.000000    3.000000    1.000000   80.000000   \n",
       "\n",
       "            SibSp       Parch    Embarked    AgeGroup       Title  \n",
       "count  891.000000  891.000000  891.000000  891.000000  891.000000  \n",
       "mean     0.523008    0.381594    1.536476    3.640853    1.751964  \n",
       "std      1.102743    0.806057    0.791503    2.434091    1.112838  \n",
       "min      0.000000    0.000000    0.000000    0.000000    1.000000  \n",
       "25%      0.000000    0.000000    1.000000    1.000000    1.000000  \n",
       "50%      0.000000    0.000000    2.000000    4.000000    1.000000  \n",
       "75%      1.000000    0.000000    2.000000    6.000000    2.000000  \n",
       "max      8.000000    6.000000    2.000000    6.000000    6.000000  "
      ]
     },
     "execution_count": 43,
     "metadata": {},
     "output_type": "execute_result"
    }
   ],
   "source": [
    "train.describe()"
   ]
  },
  {
   "cell_type": "code",
   "execution_count": 6,
   "id": "3dcada43",
   "metadata": {
    "execution": {
     "iopub.execute_input": "2023-06-17T15:08:10.118745Z",
     "iopub.status.busy": "2023-06-17T15:08:10.118099Z",
     "iopub.status.idle": "2023-06-17T15:08:10.147053Z",
     "shell.execute_reply": "2023-06-17T15:08:10.145684Z"
    },
    "papermill": {
     "duration": 0.0451,
     "end_time": "2023-06-17T15:08:10.149771",
     "exception": false,
     "start_time": "2023-06-17T15:08:10.104671",
     "status": "completed"
    },
    "tags": []
   },
   "outputs": [
    {
     "name": "stdout",
     "output_type": "stream",
     "text": [
      "<class 'pandas.core.frame.DataFrame'>\n",
      "RangeIndex: 891 entries, 0 to 890\n",
      "Data columns (total 12 columns):\n",
      " #   Column       Non-Null Count  Dtype  \n",
      "---  ------       --------------  -----  \n",
      " 0   PassengerId  891 non-null    int64  \n",
      " 1   Survived     891 non-null    int64  \n",
      " 2   Pclass       891 non-null    int64  \n",
      " 3   Name         891 non-null    object \n",
      " 4   Sex          891 non-null    object \n",
      " 5   Age          714 non-null    float64\n",
      " 6   SibSp        891 non-null    int64  \n",
      " 7   Parch        891 non-null    int64  \n",
      " 8   Ticket       891 non-null    object \n",
      " 9   Fare         891 non-null    float64\n",
      " 10  Cabin        204 non-null    object \n",
      " 11  Embarked     889 non-null    object \n",
      "dtypes: float64(2), int64(5), object(5)\n",
      "memory usage: 83.7+ KB\n"
     ]
    }
   ],
   "source": [
    "train.info()"
   ]
  },
  {
   "cell_type": "code",
   "execution_count": 7,
   "id": "aceffbe6",
   "metadata": {
    "execution": {
     "iopub.execute_input": "2023-06-17T15:08:10.171520Z",
     "iopub.status.busy": "2023-06-17T15:08:10.170677Z",
     "iopub.status.idle": "2023-06-17T15:08:10.183671Z",
     "shell.execute_reply": "2023-06-17T15:08:10.182387Z"
    },
    "papermill": {
     "duration": 0.026123,
     "end_time": "2023-06-17T15:08:10.185694",
     "exception": false,
     "start_time": "2023-06-17T15:08:10.159571",
     "status": "completed"
    },
    "tags": []
   },
   "outputs": [
    {
     "name": "stdout",
     "output_type": "stream",
     "text": [
      "<class 'pandas.core.frame.DataFrame'>\n",
      "RangeIndex: 418 entries, 0 to 417\n",
      "Data columns (total 11 columns):\n",
      " #   Column       Non-Null Count  Dtype  \n",
      "---  ------       --------------  -----  \n",
      " 0   PassengerId  418 non-null    int64  \n",
      " 1   Pclass       418 non-null    int64  \n",
      " 2   Name         418 non-null    object \n",
      " 3   Sex          418 non-null    object \n",
      " 4   Age          332 non-null    float64\n",
      " 5   SibSp        418 non-null    int64  \n",
      " 6   Parch        418 non-null    int64  \n",
      " 7   Ticket       418 non-null    object \n",
      " 8   Fare         417 non-null    float64\n",
      " 9   Cabin        91 non-null     object \n",
      " 10  Embarked     418 non-null    object \n",
      "dtypes: float64(2), int64(4), object(5)\n",
      "memory usage: 36.1+ KB\n"
     ]
    }
   ],
   "source": [
    "test.info()"
   ]
  },
  {
   "cell_type": "code",
   "execution_count": 42,
   "id": "c5143a53",
   "metadata": {},
   "outputs": [
    {
     "data": {
      "text/html": [
       "<div>\n",
       "<style scoped>\n",
       "    .dataframe tbody tr th:only-of-type {\n",
       "        vertical-align: middle;\n",
       "    }\n",
       "\n",
       "    .dataframe tbody tr th {\n",
       "        vertical-align: top;\n",
       "    }\n",
       "\n",
       "    .dataframe thead th {\n",
       "        text-align: right;\n",
       "    }\n",
       "</style>\n",
       "<table border=\"1\" class=\"dataframe\">\n",
       "  <thead>\n",
       "    <tr style=\"text-align: right;\">\n",
       "      <th></th>\n",
       "      <th>PassengerId</th>\n",
       "      <th>Pclass</th>\n",
       "      <th>Sex</th>\n",
       "      <th>Age</th>\n",
       "      <th>SibSp</th>\n",
       "      <th>Parch</th>\n",
       "      <th>Embarked</th>\n",
       "      <th>AgeGroup</th>\n",
       "      <th>Title</th>\n",
       "    </tr>\n",
       "  </thead>\n",
       "  <tbody>\n",
       "    <tr>\n",
       "      <th>count</th>\n",
       "      <td>418.000000</td>\n",
       "      <td>418.000000</td>\n",
       "      <td>418.000000</td>\n",
       "      <td>418.000000</td>\n",
       "      <td>418.000000</td>\n",
       "      <td>418.000000</td>\n",
       "      <td>418.000000</td>\n",
       "      <td>418.000000</td>\n",
       "      <td>418.000000</td>\n",
       "    </tr>\n",
       "    <tr>\n",
       "      <th>mean</th>\n",
       "      <td>1100.500000</td>\n",
       "      <td>2.265550</td>\n",
       "      <td>0.636364</td>\n",
       "      <td>23.941388</td>\n",
       "      <td>0.447368</td>\n",
       "      <td>0.392344</td>\n",
       "      <td>1.401914</td>\n",
       "      <td>3.602871</td>\n",
       "      <td>1.755981</td>\n",
       "    </tr>\n",
       "    <tr>\n",
       "      <th>std</th>\n",
       "      <td>120.810458</td>\n",
       "      <td>0.841838</td>\n",
       "      <td>0.481622</td>\n",
       "      <td>17.741080</td>\n",
       "      <td>0.896760</td>\n",
       "      <td>0.981429</td>\n",
       "      <td>0.854496</td>\n",
       "      <td>2.421960</td>\n",
       "      <td>1.058380</td>\n",
       "    </tr>\n",
       "    <tr>\n",
       "      <th>min</th>\n",
       "      <td>892.000000</td>\n",
       "      <td>1.000000</td>\n",
       "      <td>0.000000</td>\n",
       "      <td>-0.500000</td>\n",
       "      <td>0.000000</td>\n",
       "      <td>0.000000</td>\n",
       "      <td>0.000000</td>\n",
       "      <td>0.000000</td>\n",
       "      <td>1.000000</td>\n",
       "    </tr>\n",
       "    <tr>\n",
       "      <th>25%</th>\n",
       "      <td>996.250000</td>\n",
       "      <td>1.000000</td>\n",
       "      <td>0.000000</td>\n",
       "      <td>9.000000</td>\n",
       "      <td>0.000000</td>\n",
       "      <td>0.000000</td>\n",
       "      <td>1.000000</td>\n",
       "      <td>1.000000</td>\n",
       "      <td>1.000000</td>\n",
       "    </tr>\n",
       "    <tr>\n",
       "      <th>50%</th>\n",
       "      <td>1100.500000</td>\n",
       "      <td>3.000000</td>\n",
       "      <td>1.000000</td>\n",
       "      <td>24.000000</td>\n",
       "      <td>0.000000</td>\n",
       "      <td>0.000000</td>\n",
       "      <td>2.000000</td>\n",
       "      <td>4.000000</td>\n",
       "      <td>1.000000</td>\n",
       "    </tr>\n",
       "    <tr>\n",
       "      <th>75%</th>\n",
       "      <td>1204.750000</td>\n",
       "      <td>3.000000</td>\n",
       "      <td>1.000000</td>\n",
       "      <td>35.750000</td>\n",
       "      <td>1.000000</td>\n",
       "      <td>0.000000</td>\n",
       "      <td>2.000000</td>\n",
       "      <td>6.000000</td>\n",
       "      <td>2.000000</td>\n",
       "    </tr>\n",
       "    <tr>\n",
       "      <th>max</th>\n",
       "      <td>1309.000000</td>\n",
       "      <td>3.000000</td>\n",
       "      <td>1.000000</td>\n",
       "      <td>76.000000</td>\n",
       "      <td>8.000000</td>\n",
       "      <td>9.000000</td>\n",
       "      <td>2.000000</td>\n",
       "      <td>6.000000</td>\n",
       "      <td>6.000000</td>\n",
       "    </tr>\n",
       "  </tbody>\n",
       "</table>\n",
       "</div>"
      ],
      "text/plain": [
       "       PassengerId      Pclass         Sex         Age       SibSp  \\\n",
       "count   418.000000  418.000000  418.000000  418.000000  418.000000   \n",
       "mean   1100.500000    2.265550    0.636364   23.941388    0.447368   \n",
       "std     120.810458    0.841838    0.481622   17.741080    0.896760   \n",
       "min     892.000000    1.000000    0.000000   -0.500000    0.000000   \n",
       "25%     996.250000    1.000000    0.000000    9.000000    0.000000   \n",
       "50%    1100.500000    3.000000    1.000000   24.000000    0.000000   \n",
       "75%    1204.750000    3.000000    1.000000   35.750000    1.000000   \n",
       "max    1309.000000    3.000000    1.000000   76.000000    8.000000   \n",
       "\n",
       "            Parch    Embarked    AgeGroup       Title  \n",
       "count  418.000000  418.000000  418.000000  418.000000  \n",
       "mean     0.392344    1.401914    3.602871    1.755981  \n",
       "std      0.981429    0.854496    2.421960    1.058380  \n",
       "min      0.000000    0.000000    0.000000    1.000000  \n",
       "25%      0.000000    1.000000    1.000000    1.000000  \n",
       "50%      0.000000    2.000000    4.000000    1.000000  \n",
       "75%      0.000000    2.000000    6.000000    2.000000  \n",
       "max      9.000000    2.000000    6.000000    6.000000  "
      ]
     },
     "execution_count": 42,
     "metadata": {},
     "output_type": "execute_result"
    }
   ],
   "source": [
    "test.describe()"
   ]
  },
  {
   "cell_type": "code",
   "execution_count": 8,
   "id": "959de74c",
   "metadata": {
    "execution": {
     "iopub.execute_input": "2023-06-17T15:08:10.206994Z",
     "iopub.status.busy": "2023-06-17T15:08:10.206655Z",
     "iopub.status.idle": "2023-06-17T15:08:10.211938Z",
     "shell.execute_reply": "2023-06-17T15:08:10.211151Z"
    },
    "papermill": {
     "duration": 0.018368,
     "end_time": "2023-06-17T15:08:10.213862",
     "exception": false,
     "start_time": "2023-06-17T15:08:10.195494",
     "status": "completed"
    },
    "tags": []
   },
   "outputs": [
    {
     "data": {
      "text/plain": [
       "(891, 12)"
      ]
     },
     "execution_count": 8,
     "metadata": {},
     "output_type": "execute_result"
    }
   ],
   "source": [
    "train.shape"
   ]
  },
  {
   "cell_type": "code",
   "execution_count": 9,
   "id": "141e2c77",
   "metadata": {
    "execution": {
     "iopub.execute_input": "2023-06-17T15:08:10.235673Z",
     "iopub.status.busy": "2023-06-17T15:08:10.234927Z",
     "iopub.status.idle": "2023-06-17T15:08:10.244115Z",
     "shell.execute_reply": "2023-06-17T15:08:10.242840Z"
    },
    "papermill": {
     "duration": 0.022804,
     "end_time": "2023-06-17T15:08:10.246510",
     "exception": false,
     "start_time": "2023-06-17T15:08:10.223706",
     "status": "completed"
    },
    "tags": []
   },
   "outputs": [
    {
     "data": {
      "text/plain": [
       "PassengerId      0\n",
       "Survived         0\n",
       "Pclass           0\n",
       "Name             0\n",
       "Sex              0\n",
       "Age            177\n",
       "SibSp            0\n",
       "Parch            0\n",
       "Ticket           0\n",
       "Fare             0\n",
       "Cabin          687\n",
       "Embarked         2\n",
       "dtype: int64"
      ]
     },
     "execution_count": 9,
     "metadata": {},
     "output_type": "execute_result"
    }
   ],
   "source": [
    "train.isnull().sum()"
   ]
  },
  {
   "cell_type": "code",
   "execution_count": 10,
   "id": "38f3feb0",
   "metadata": {
    "execution": {
     "iopub.execute_input": "2023-06-17T15:08:10.268613Z",
     "iopub.status.busy": "2023-06-17T15:08:10.268202Z",
     "iopub.status.idle": "2023-06-17T15:08:10.276501Z",
     "shell.execute_reply": "2023-06-17T15:08:10.275643Z"
    },
    "papermill": {
     "duration": 0.02171,
     "end_time": "2023-06-17T15:08:10.278432",
     "exception": false,
     "start_time": "2023-06-17T15:08:10.256722",
     "status": "completed"
    },
    "tags": []
   },
   "outputs": [
    {
     "data": {
      "text/plain": [
       "PassengerId      0\n",
       "Pclass           0\n",
       "Name             0\n",
       "Sex              0\n",
       "Age             86\n",
       "SibSp            0\n",
       "Parch            0\n",
       "Ticket           0\n",
       "Fare             1\n",
       "Cabin          327\n",
       "Embarked         0\n",
       "dtype: int64"
      ]
     },
     "execution_count": 10,
     "metadata": {},
     "output_type": "execute_result"
    }
   ],
   "source": [
    "test.isnull().sum()"
   ]
  },
  {
   "cell_type": "markdown",
   "id": "d5dd4420",
   "metadata": {
    "papermill": {
     "duration": 0.009788,
     "end_time": "2023-06-17T15:08:10.298343",
     "exception": false,
     "start_time": "2023-06-17T15:08:10.288555",
     "status": "completed"
    },
    "tags": []
   },
   "source": [
    "## Data Visualisation"
   ]
  },
  {
   "cell_type": "markdown",
   "id": "b1f996b9",
   "metadata": {
    "papermill": {
     "duration": 0.010203,
     "end_time": "2023-06-17T15:08:10.318580",
     "exception": false,
     "start_time": "2023-06-17T15:08:10.308377",
     "status": "completed"
    },
    "tags": []
   },
   "source": [
    "### Sex"
   ]
  },
  {
   "cell_type": "code",
   "execution_count": 11,
   "id": "cd49fc6c",
   "metadata": {
    "execution": {
     "iopub.execute_input": "2023-06-17T15:08:10.340850Z",
     "iopub.status.busy": "2023-06-17T15:08:10.340475Z",
     "iopub.status.idle": "2023-06-17T15:08:10.678194Z",
     "shell.execute_reply": "2023-06-17T15:08:10.677160Z"
    },
    "papermill": {
     "duration": 0.351489,
     "end_time": "2023-06-17T15:08:10.680662",
     "exception": false,
     "start_time": "2023-06-17T15:08:10.329173",
     "status": "completed"
    },
    "tags": []
   },
   "outputs": [
    {
     "data": {
      "image/png": "[encoded data removed]",
      "text/plain": [
       "<Figure size 1000x800 with 1 Axes>"
      ]
     },
     "metadata": {},
     "output_type": "display_data"
    }
   ],
   "source": [
    "plt.figure(figsize=(10, 8))\n",
    "age_plot = sns.barplot(x = \"Sex\",y = \"Survived\", data = train)\n",
    "age_plot = age_plot.set_ylabel(\"Survival Probability\")"
   ]
  },
  {
   "cell_type": "code",
   "execution_count": 12,
   "id": "6cdbd2e3",
   "metadata": {
    "execution": {
     "iopub.execute_input": "2023-06-17T15:08:10.703451Z",
     "iopub.status.busy": "2023-06-17T15:08:10.703101Z",
     "iopub.status.idle": "2023-06-17T15:08:10.716431Z",
     "shell.execute_reply": "2023-06-17T15:08:10.715624Z"
    },
    "papermill": {
     "duration": 0.027196,
     "end_time": "2023-06-17T15:08:10.718389",
     "exception": false,
     "start_time": "2023-06-17T15:08:10.691193",
     "status": "completed"
    },
    "tags": []
   },
   "outputs": [
    {
     "data": {
      "text/html": [
       "<div>\n",
       "<style scoped>\n",
       "    .dataframe tbody tr th:only-of-type {\n",
       "        vertical-align: middle;\n",
       "    }\n",
       "\n",
       "    .dataframe tbody tr th {\n",
       "        vertical-align: top;\n",
       "    }\n",
       "\n",
       "    .dataframe thead th {\n",
       "        text-align: right;\n",
       "    }\n",
       "</style>\n",
       "<table border=\"1\" class=\"dataframe\">\n",
       "  <thead>\n",
       "    <tr style=\"text-align: right;\">\n",
       "      <th></th>\n",
       "      <th>Survived</th>\n",
       "    </tr>\n",
       "    <tr>\n",
       "      <th>Sex</th>\n",
       "      <th></th>\n",
       "    </tr>\n",
       "  </thead>\n",
       "  <tbody>\n",
       "    <tr>\n",
       "      <th>female</th>\n",
       "      <td>0.742038</td>\n",
       "    </tr>\n",
       "    <tr>\n",
       "      <th>male</th>\n",
       "      <td>0.188908</td>\n",
       "    </tr>\n",
       "  </tbody>\n",
       "</table>\n",
       "</div>"
      ],
      "text/plain": [
       "        Survived\n",
       "Sex             \n",
       "female  0.742038\n",
       "male    0.188908"
      ]
     },
     "execution_count": 12,
     "metadata": {},
     "output_type": "execute_result"
    }
   ],
   "source": [
    "train[[\"Sex\",\"Survived\"]].groupby('Sex').mean()"
   ]
  },
  {
   "cell_type": "markdown",
   "id": "29217b11",
   "metadata": {
    "papermill": {
     "duration": 0.01024,
     "end_time": "2023-06-17T15:08:10.739179",
     "exception": false,
     "start_time": "2023-06-17T15:08:10.728939",
     "status": "completed"
    },
    "tags": []
   },
   "source": [
    "### Pclass"
   ]
  },
  {
   "cell_type": "code",
   "execution_count": 13,
   "id": "ef9cc342",
   "metadata": {
    "execution": {
     "iopub.execute_input": "2023-06-17T15:08:10.762070Z",
     "iopub.status.busy": "2023-06-17T15:08:10.761408Z",
     "iopub.status.idle": "2023-06-17T15:08:11.156043Z",
     "shell.execute_reply": "2023-06-17T15:08:11.154978Z"
    },
    "papermill": {
     "duration": 0.408684,
     "end_time": "2023-06-17T15:08:11.158314",
     "exception": false,
     "start_time": "2023-06-17T15:08:10.749630",
     "status": "completed"
    },
    "tags": []
   },
   "outputs": [
    {
     "data": {
      "image/png": "[encoded data removed]",
      "text/plain": [
       "<Figure size 500x500 with 1 Axes>"
      ]
     },
     "metadata": {},
     "output_type": "display_data"
    }
   ],
   "source": [
    "pclass = sns.catplot(x = \"Pclass\", y = \"Survived\", data = train, kind = \"bar\", height = 5)\n",
    "pclass = pclass.set_ylabels(\"survival probability\")"
   ]
  },
  {
   "cell_type": "code",
   "execution_count": 14,
   "id": "c4296511",
   "metadata": {
    "execution": {
     "iopub.execute_input": "2023-06-17T15:08:11.182042Z",
     "iopub.status.busy": "2023-06-17T15:08:11.181191Z",
     "iopub.status.idle": "2023-06-17T15:08:11.193293Z",
     "shell.execute_reply": "2023-06-17T15:08:11.192350Z"
    },
    "papermill": {
     "duration": 0.026281,
     "end_time": "2023-06-17T15:08:11.195396",
     "exception": false,
     "start_time": "2023-06-17T15:08:11.169115",
     "status": "completed"
    },
    "tags": []
   },
   "outputs": [
    {
     "data": {
      "text/html": [
       "<div>\n",
       "<style scoped>\n",
       "    .dataframe tbody tr th:only-of-type {\n",
       "        vertical-align: middle;\n",
       "    }\n",
       "\n",
       "    .dataframe tbody tr th {\n",
       "        vertical-align: top;\n",
       "    }\n",
       "\n",
       "    .dataframe thead th {\n",
       "        text-align: right;\n",
       "    }\n",
       "</style>\n",
       "<table border=\"1\" class=\"dataframe\">\n",
       "  <thead>\n",
       "    <tr style=\"text-align: right;\">\n",
       "      <th></th>\n",
       "      <th>Survived</th>\n",
       "    </tr>\n",
       "    <tr>\n",
       "      <th>Pclass</th>\n",
       "      <th></th>\n",
       "    </tr>\n",
       "  </thead>\n",
       "  <tbody>\n",
       "    <tr>\n",
       "      <th>1</th>\n",
       "      <td>0.629630</td>\n",
       "    </tr>\n",
       "    <tr>\n",
       "      <th>2</th>\n",
       "      <td>0.472826</td>\n",
       "    </tr>\n",
       "    <tr>\n",
       "      <th>3</th>\n",
       "      <td>0.242363</td>\n",
       "    </tr>\n",
       "  </tbody>\n",
       "</table>\n",
       "</div>"
      ],
      "text/plain": [
       "        Survived\n",
       "Pclass          \n",
       "1       0.629630\n",
       "2       0.472826\n",
       "3       0.242363"
      ]
     },
     "execution_count": 14,
     "metadata": {},
     "output_type": "execute_result"
    }
   ],
   "source": [
    "train[[\"Pclass\",\"Survived\"]].groupby('Pclass').mean()"
   ]
  },
  {
   "cell_type": "code",
   "execution_count": 15,
   "id": "28a836d8",
   "metadata": {
    "execution": {
     "iopub.execute_input": "2023-06-17T15:08:11.219734Z",
     "iopub.status.busy": "2023-06-17T15:08:11.218563Z",
     "iopub.status.idle": "2023-06-17T15:08:11.663847Z",
     "shell.execute_reply": "2023-06-17T15:08:11.662754Z"
    },
    "papermill": {
     "duration": 0.46055,
     "end_time": "2023-06-17T15:08:11.666776",
     "exception": false,
     "start_time": "2023-06-17T15:08:11.206226",
     "status": "completed"
    },
    "tags": []
   },
   "outputs": [
    {
     "data": {
      "image/png": "[encoded data removed]",
      "text/plain": [
       "<Figure size 640x480 with 1 Axes>"
      ]
     },
     "metadata": {},
     "output_type": "display_data"
    }
   ],
   "source": [
    "train.Age = train.Age.fillna(-0.5)\n",
    "test.Age = test.Age.fillna(-0.5)\n",
    "\n",
    "bins = [-1, 0, 5, 12, 18, 24, 35, 60, np.inf]\n",
    "labels = ['Unknown', 'Baby', 'Child', 'Teenager', 'Student', 'Young Adult', 'Adult', 'Senior']\n",
    "\n",
    "train['AgeGroup'] = pd.cut(train['Age'], bins, labels=labels)\n",
    "test['AgeGroup'] = pd.cut(test['Age'], bins, labels=labels)\n",
    "\n",
    "sns.barplot(x='AgeGroup', y='Survived', data=train)\n",
    "plt.show()\n"
   ]
  },
  {
   "cell_type": "code",
   "execution_count": 16,
   "id": "d0985095",
   "metadata": {
    "execution": {
     "iopub.execute_input": "2023-06-17T15:08:11.692519Z",
     "iopub.status.busy": "2023-06-17T15:08:11.691462Z",
     "iopub.status.idle": "2023-06-17T15:08:11.698368Z",
     "shell.execute_reply": "2023-06-17T15:08:11.697275Z"
    },
    "papermill": {
     "duration": 0.021986,
     "end_time": "2023-06-17T15:08:11.700537",
     "exception": false,
     "start_time": "2023-06-17T15:08:11.678551",
     "status": "completed"
    },
    "tags": []
   },
   "outputs": [
    {
     "data": {
      "text/plain": [
       "Index(['PassengerId', 'Survived', 'Pclass', 'Name', 'Sex', 'Age', 'SibSp',\n",
       "       'Parch', 'Ticket', 'Fare', 'Cabin', 'Embarked', 'AgeGroup'],\n",
       "      dtype='object')"
      ]
     },
     "execution_count": 16,
     "metadata": {},
     "output_type": "execute_result"
    }
   ],
   "source": [
    "train.columns"
   ]
  },
  {
   "cell_type": "code",
   "execution_count": 17,
   "id": "b416a7d3",
   "metadata": {
    "execution": {
     "iopub.execute_input": "2023-06-17T15:08:11.726225Z",
     "iopub.status.busy": "2023-06-17T15:08:11.725178Z",
     "iopub.status.idle": "2023-06-17T15:08:11.731617Z",
     "shell.execute_reply": "2023-06-17T15:08:11.730847Z"
    },
    "papermill": {
     "duration": 0.021691,
     "end_time": "2023-06-17T15:08:11.733666",
     "exception": false,
     "start_time": "2023-06-17T15:08:11.711975",
     "status": "completed"
    },
    "tags": []
   },
   "outputs": [],
   "source": [
    "train = train.drop(['Ticket','Cabin','Fare'],axis=1)\n",
    "test = test.drop(['Ticket','Cabin','Fare'],axis=1)"
   ]
  },
  {
   "cell_type": "markdown",
   "id": "f57eac5c",
   "metadata": {
    "papermill": {
     "duration": 0.011107,
     "end_time": "2023-06-17T15:08:11.756256",
     "exception": false,
     "start_time": "2023-06-17T15:08:11.745149",
     "status": "completed"
    },
    "tags": []
   },
   "source": [
    "## Missing Value"
   ]
  },
  {
   "cell_type": "code",
   "execution_count": 18,
   "id": "9e05f4a6",
   "metadata": {
    "execution": {
     "iopub.execute_input": "2023-06-17T15:08:11.781217Z",
     "iopub.status.busy": "2023-06-17T15:08:11.780641Z",
     "iopub.status.idle": "2023-06-17T15:08:11.791913Z",
     "shell.execute_reply": "2023-06-17T15:08:11.790495Z"
    },
    "papermill": {
     "duration": 0.026339,
     "end_time": "2023-06-17T15:08:11.794026",
     "exception": false,
     "start_time": "2023-06-17T15:08:11.767687",
     "status": "completed"
    },
    "tags": []
   },
   "outputs": [
    {
     "name": "stdout",
     "output_type": "stream",
     "text": [
      "Number of people embarking in Cherbourg (C):\n",
      "168\n",
      "Number of people embarking in Southampton (S):\n",
      "644\n",
      "Number of people embarking in Queenstown (Q):\n",
      "77\n"
     ]
    }
   ],
   "source": [
    "print('Number of people embarking in Cherbourg (C):')\n",
    "cher = train[train['Embarked'] == 'C'].shape[0]\n",
    "print(cher)\n",
    "\n",
    "print('Number of people embarking in Southampton (S):')\n",
    "southampton  = train[train['Embarked'] == 'S'].shape[0]\n",
    "print(southampton)\n",
    "\n",
    "print('Number of people embarking in Queenstown (Q):')\n",
    "Queenstown = train[train['Embarked'] == 'Q'].shape[0] \n",
    "print(Queenstown)"
   ]
  },
  {
   "cell_type": "code",
   "execution_count": 19,
   "id": "a4369a34",
   "metadata": {
    "execution": {
     "iopub.execute_input": "2023-06-17T15:08:11.819393Z",
     "iopub.status.busy": "2023-06-17T15:08:11.818435Z",
     "iopub.status.idle": "2023-06-17T15:08:11.825327Z",
     "shell.execute_reply": "2023-06-17T15:08:11.824281Z"
    },
    "papermill": {
     "duration": 0.022296,
     "end_time": "2023-06-17T15:08:11.827865",
     "exception": false,
     "start_time": "2023-06-17T15:08:11.805569",
     "status": "completed"
    },
    "tags": []
   },
   "outputs": [],
   "source": [
    "train = train.fillna({'Embarked':'S'})"
   ]
  },
  {
   "cell_type": "code",
   "execution_count": 20,
   "id": "66ea1ea8",
   "metadata": {
    "execution": {
     "iopub.execute_input": "2023-06-17T15:08:11.853310Z",
     "iopub.status.busy": "2023-06-17T15:08:11.852910Z",
     "iopub.status.idle": "2023-06-17T15:08:11.862848Z",
     "shell.execute_reply": "2023-06-17T15:08:11.861671Z"
    },
    "papermill": {
     "duration": 0.025538,
     "end_time": "2023-06-17T15:08:11.864928",
     "exception": false,
     "start_time": "2023-06-17T15:08:11.839390",
     "status": "completed"
    },
    "tags": []
   },
   "outputs": [
    {
     "data": {
      "text/plain": [
       "PassengerId    0\n",
       "Survived       0\n",
       "Pclass         0\n",
       "Name           0\n",
       "Sex            0\n",
       "Age            0\n",
       "SibSp          0\n",
       "Parch          0\n",
       "Embarked       0\n",
       "AgeGroup       0\n",
       "dtype: int64"
      ]
     },
     "execution_count": 20,
     "metadata": {},
     "output_type": "execute_result"
    }
   ],
   "source": [
    "train.isna().sum()"
   ]
  },
  {
   "cell_type": "code",
   "execution_count": 21,
   "id": "1e1e290c",
   "metadata": {
    "execution": {
     "iopub.execute_input": "2023-06-17T15:08:11.890761Z",
     "iopub.status.busy": "2023-06-17T15:08:11.890352Z",
     "iopub.status.idle": "2023-06-17T15:08:11.894920Z",
     "shell.execute_reply": "2023-06-17T15:08:11.893866Z"
    },
    "papermill": {
     "duration": 0.020219,
     "end_time": "2023-06-17T15:08:11.896944",
     "exception": false,
     "start_time": "2023-06-17T15:08:11.876725",
     "status": "completed"
    },
    "tags": []
   },
   "outputs": [],
   "source": [
    "combine = [train,test]"
   ]
  },
  {
   "cell_type": "code",
   "execution_count": 22,
   "id": "c142b8cb",
   "metadata": {
    "execution": {
     "iopub.execute_input": "2023-06-17T15:08:11.921834Z",
     "iopub.status.busy": "2023-06-17T15:08:11.921433Z",
     "iopub.status.idle": "2023-06-17T15:08:11.941981Z",
     "shell.execute_reply": "2023-06-17T15:08:11.940901Z"
    },
    "papermill": {
     "duration": 0.035839,
     "end_time": "2023-06-17T15:08:11.944348",
     "exception": false,
     "start_time": "2023-06-17T15:08:11.908509",
     "status": "completed"
    },
    "tags": []
   },
   "outputs": [
    {
     "data": {
      "text/plain": [
       "[     PassengerId  Survived  Pclass  \\\n",
       " 0              1         0       3   \n",
       " 1              2         1       1   \n",
       " 2              3         1       3   \n",
       " 3              4         1       1   \n",
       " 4              5         0       3   \n",
       " ..           ...       ...     ...   \n",
       " 886          887         0       2   \n",
       " 887          888         1       1   \n",
       " 888          889         0       3   \n",
       " 889          890         1       1   \n",
       " 890          891         0       3   \n",
       " \n",
       "                                                   Name     Sex   Age  SibSp  \\\n",
       " 0                              Braund, Mr. Owen Harris    male  22.0      1   \n",
       " 1    Cumings, Mrs. John Bradley (Florence Briggs Th...  female  38.0      1   \n",
       " 2                               Heikkinen, Miss. Laina  female  26.0      0   \n",
       " 3         Futrelle, Mrs. Jacques Heath (Lily May Peel)  female  35.0      1   \n",
       " 4                             Allen, Mr. William Henry    male  35.0      0   \n",
       " ..                                                 ...     ...   ...    ...   \n",
       " 886                              Montvila, Rev. Juozas    male  27.0      0   \n",
       " 887                       Graham, Miss. Margaret Edith  female  19.0      0   \n",
       " 888           Johnston, Miss. Catherine Helen \"Carrie\"  female  -0.5      1   \n",
       " 889                              Behr, Mr. Karl Howell    male  26.0      0   \n",
       " 890                                Dooley, Mr. Patrick    male  32.0      0   \n",
       " \n",
       "      Parch Embarked     AgeGroup  \n",
       " 0        0        S      Student  \n",
       " 1        0        C        Adult  \n",
       " 2        0        S  Young Adult  \n",
       " 3        0        S  Young Adult  \n",
       " 4        0        S  Young Adult  \n",
       " ..     ...      ...          ...  \n",
       " 886      0        S  Young Adult  \n",
       " 887      0        S      Student  \n",
       " 888      2        S      Unknown  \n",
       " 889      0        C  Young Adult  \n",
       " 890      0        Q  Young Adult  \n",
       " \n",
       " [891 rows x 10 columns],\n",
       "      PassengerId  Pclass                                          Name  \\\n",
       " 0            892       3                              Kelly, Mr. James   \n",
       " 1            893       3              Wilkes, Mrs. James (Ellen Needs)   \n",
       " 2            894       2                     Myles, Mr. Thomas Francis   \n",
       " 3            895       3                              Wirz, Mr. Albert   \n",
       " 4            896       3  Hirvonen, Mrs. Alexander (Helga E Lindqvist)   \n",
       " ..           ...     ...                                           ...   \n",
       " 413         1305       3                            Spector, Mr. Woolf   \n",
       " 414         1306       1                  Oliva y Ocana, Dona. Fermina   \n",
       " 415         1307       3                  Saether, Mr. Simon Sivertsen   \n",
       " 416         1308       3                           Ware, Mr. Frederick   \n",
       " 417         1309       3                      Peter, Master. Michael J   \n",
       " \n",
       "         Sex   Age  SibSp  Parch Embarked     AgeGroup  \n",
       " 0      male  34.5      0      0        Q  Young Adult  \n",
       " 1    female  47.0      1      0        S        Adult  \n",
       " 2      male  62.0      0      0        Q       Senior  \n",
       " 3      male  27.0      0      0        S  Young Adult  \n",
       " 4    female  22.0      1      1        S      Student  \n",
       " ..      ...   ...    ...    ...      ...          ...  \n",
       " 413    male  -0.5      0      0        S      Unknown  \n",
       " 414  female  39.0      0      0        C        Adult  \n",
       " 415    male  38.5      0      0        S        Adult  \n",
       " 416    male  -0.5      0      0        S      Unknown  \n",
       " 417    male  -0.5      1      1        C      Unknown  \n",
       " \n",
       " [418 rows x 9 columns]]"
      ]
     },
     "execution_count": 22,
     "metadata": {},
     "output_type": "execute_result"
    }
   ],
   "source": [
    "combine"
   ]
  },
  {
   "cell_type": "code",
   "execution_count": 23,
   "id": "237dd7ae",
   "metadata": {
    "execution": {
     "iopub.execute_input": "2023-06-17T15:08:11.970024Z",
     "iopub.status.busy": "2023-06-17T15:08:11.969645Z",
     "iopub.status.idle": "2023-06-17T15:08:11.983679Z",
     "shell.execute_reply": "2023-06-17T15:08:11.982570Z"
    },
    "papermill": {
     "duration": 0.029519,
     "end_time": "2023-06-17T15:08:11.985989",
     "exception": false,
     "start_time": "2023-06-17T15:08:11.956470",
     "status": "completed"
    },
    "tags": []
   },
   "outputs": [
    {
     "data": {
      "text/html": [
       "<div>\n",
       "<style scoped>\n",
       "    .dataframe tbody tr th:only-of-type {\n",
       "        vertical-align: middle;\n",
       "    }\n",
       "\n",
       "    .dataframe tbody tr th {\n",
       "        vertical-align: top;\n",
       "    }\n",
       "\n",
       "    .dataframe thead th {\n",
       "        text-align: right;\n",
       "    }\n",
       "</style>\n",
       "<table border=\"1\" class=\"dataframe\">\n",
       "  <thead>\n",
       "    <tr style=\"text-align: right;\">\n",
       "      <th></th>\n",
       "      <th>PassengerId</th>\n",
       "      <th>Survived</th>\n",
       "      <th>Pclass</th>\n",
       "      <th>Name</th>\n",
       "      <th>Sex</th>\n",
       "      <th>Age</th>\n",
       "      <th>SibSp</th>\n",
       "      <th>Parch</th>\n",
       "      <th>Embarked</th>\n",
       "      <th>AgeGroup</th>\n",
       "    </tr>\n",
       "  </thead>\n",
       "  <tbody>\n",
       "    <tr>\n",
       "      <th>0</th>\n",
       "      <td>1</td>\n",
       "      <td>0</td>\n",
       "      <td>3</td>\n",
       "      <td>Braund, Mr. Owen Harris</td>\n",
       "      <td>male</td>\n",
       "      <td>22.0</td>\n",
       "      <td>1</td>\n",
       "      <td>0</td>\n",
       "      <td>S</td>\n",
       "      <td>Student</td>\n",
       "    </tr>\n",
       "    <tr>\n",
       "      <th>1</th>\n",
       "      <td>2</td>\n",
       "      <td>1</td>\n",
       "      <td>1</td>\n",
       "      <td>Cumings, Mrs. John Bradley (Florence Briggs Th...</td>\n",
       "      <td>female</td>\n",
       "      <td>38.0</td>\n",
       "      <td>1</td>\n",
       "      <td>0</td>\n",
       "      <td>C</td>\n",
       "      <td>Adult</td>\n",
       "    </tr>\n",
       "    <tr>\n",
       "      <th>2</th>\n",
       "      <td>3</td>\n",
       "      <td>1</td>\n",
       "      <td>3</td>\n",
       "      <td>Heikkinen, Miss. Laina</td>\n",
       "      <td>female</td>\n",
       "      <td>26.0</td>\n",
       "      <td>0</td>\n",
       "      <td>0</td>\n",
       "      <td>S</td>\n",
       "      <td>Young Adult</td>\n",
       "    </tr>\n",
       "    <tr>\n",
       "      <th>3</th>\n",
       "      <td>4</td>\n",
       "      <td>1</td>\n",
       "      <td>1</td>\n",
       "      <td>Futrelle, Mrs. Jacques Heath (Lily May Peel)</td>\n",
       "      <td>female</td>\n",
       "      <td>35.0</td>\n",
       "      <td>1</td>\n",
       "      <td>0</td>\n",
       "      <td>S</td>\n",
       "      <td>Young Adult</td>\n",
       "    </tr>\n",
       "    <tr>\n",
       "      <th>4</th>\n",
       "      <td>5</td>\n",
       "      <td>0</td>\n",
       "      <td>3</td>\n",
       "      <td>Allen, Mr. William Henry</td>\n",
       "      <td>male</td>\n",
       "      <td>35.0</td>\n",
       "      <td>0</td>\n",
       "      <td>0</td>\n",
       "      <td>S</td>\n",
       "      <td>Young Adult</td>\n",
       "    </tr>\n",
       "  </tbody>\n",
       "</table>\n",
       "</div>"
      ],
      "text/plain": [
       "   PassengerId  Survived  Pclass  \\\n",
       "0            1         0       3   \n",
       "1            2         1       1   \n",
       "2            3         1       3   \n",
       "3            4         1       1   \n",
       "4            5         0       3   \n",
       "\n",
       "                                                Name     Sex   Age  SibSp  \\\n",
       "0                            Braund, Mr. Owen Harris    male  22.0      1   \n",
       "1  Cumings, Mrs. John Bradley (Florence Briggs Th...  female  38.0      1   \n",
       "2                             Heikkinen, Miss. Laina  female  26.0      0   \n",
       "3       Futrelle, Mrs. Jacques Heath (Lily May Peel)  female  35.0      1   \n",
       "4                           Allen, Mr. William Henry    male  35.0      0   \n",
       "\n",
       "   Parch Embarked     AgeGroup  \n",
       "0      0        S      Student  \n",
       "1      0        C        Adult  \n",
       "2      0        S  Young Adult  \n",
       "3      0        S  Young Adult  \n",
       "4      0        S  Young Adult  "
      ]
     },
     "execution_count": 23,
     "metadata": {},
     "output_type": "execute_result"
    }
   ],
   "source": [
    "train.head()"
   ]
  },
  {
   "cell_type": "code",
   "execution_count": 24,
   "id": "f6d5a3d9",
   "metadata": {
    "execution": {
     "iopub.execute_input": "2023-06-17T15:08:12.011819Z",
     "iopub.status.busy": "2023-06-17T15:08:12.011432Z",
     "iopub.status.idle": "2023-06-17T15:08:12.048102Z",
     "shell.execute_reply": "2023-06-17T15:08:12.047011Z"
    },
    "papermill": {
     "duration": 0.052785,
     "end_time": "2023-06-17T15:08:12.050830",
     "exception": false,
     "start_time": "2023-06-17T15:08:11.998045",
     "status": "completed"
    },
    "tags": []
   },
   "outputs": [
    {
     "data": {
      "text/html": [
       "<div>\n",
       "<style scoped>\n",
       "    .dataframe tbody tr th:only-of-type {\n",
       "        vertical-align: middle;\n",
       "    }\n",
       "\n",
       "    .dataframe tbody tr th {\n",
       "        vertical-align: top;\n",
       "    }\n",
       "\n",
       "    .dataframe thead th {\n",
       "        text-align: right;\n",
       "    }\n",
       "</style>\n",
       "<table border=\"1\" class=\"dataframe\">\n",
       "  <thead>\n",
       "    <tr style=\"text-align: right;\">\n",
       "      <th>Sex</th>\n",
       "      <th>female</th>\n",
       "      <th>male</th>\n",
       "    </tr>\n",
       "    <tr>\n",
       "      <th>Title</th>\n",
       "      <th></th>\n",
       "      <th></th>\n",
       "    </tr>\n",
       "  </thead>\n",
       "  <tbody>\n",
       "    <tr>\n",
       "      <th>Capt</th>\n",
       "      <td>0</td>\n",
       "      <td>1</td>\n",
       "    </tr>\n",
       "    <tr>\n",
       "      <th>Col</th>\n",
       "      <td>0</td>\n",
       "      <td>2</td>\n",
       "    </tr>\n",
       "    <tr>\n",
       "      <th>Countess</th>\n",
       "      <td>1</td>\n",
       "      <td>0</td>\n",
       "    </tr>\n",
       "    <tr>\n",
       "      <th>Don</th>\n",
       "      <td>0</td>\n",
       "      <td>1</td>\n",
       "    </tr>\n",
       "    <tr>\n",
       "      <th>Dr</th>\n",
       "      <td>1</td>\n",
       "      <td>6</td>\n",
       "    </tr>\n",
       "    <tr>\n",
       "      <th>Jonkheer</th>\n",
       "      <td>0</td>\n",
       "      <td>1</td>\n",
       "    </tr>\n",
       "    <tr>\n",
       "      <th>Lady</th>\n",
       "      <td>1</td>\n",
       "      <td>0</td>\n",
       "    </tr>\n",
       "    <tr>\n",
       "      <th>Major</th>\n",
       "      <td>0</td>\n",
       "      <td>2</td>\n",
       "    </tr>\n",
       "    <tr>\n",
       "      <th>Master</th>\n",
       "      <td>0</td>\n",
       "      <td>40</td>\n",
       "    </tr>\n",
       "    <tr>\n",
       "      <th>Miss</th>\n",
       "      <td>182</td>\n",
       "      <td>0</td>\n",
       "    </tr>\n",
       "    <tr>\n",
       "      <th>Mlle</th>\n",
       "      <td>2</td>\n",
       "      <td>0</td>\n",
       "    </tr>\n",
       "    <tr>\n",
       "      <th>Mme</th>\n",
       "      <td>1</td>\n",
       "      <td>0</td>\n",
       "    </tr>\n",
       "    <tr>\n",
       "      <th>Mr</th>\n",
       "      <td>0</td>\n",
       "      <td>517</td>\n",
       "    </tr>\n",
       "    <tr>\n",
       "      <th>Mrs</th>\n",
       "      <td>125</td>\n",
       "      <td>0</td>\n",
       "    </tr>\n",
       "    <tr>\n",
       "      <th>Ms</th>\n",
       "      <td>1</td>\n",
       "      <td>0</td>\n",
       "    </tr>\n",
       "    <tr>\n",
       "      <th>Rev</th>\n",
       "      <td>0</td>\n",
       "      <td>6</td>\n",
       "    </tr>\n",
       "    <tr>\n",
       "      <th>Sir</th>\n",
       "      <td>0</td>\n",
       "      <td>1</td>\n",
       "    </tr>\n",
       "  </tbody>\n",
       "</table>\n",
       "</div>"
      ],
      "text/plain": [
       "Sex       female  male\n",
       "Title                 \n",
       "Capt           0     1\n",
       "Col            0     2\n",
       "Countess       1     0\n",
       "Don            0     1\n",
       "Dr             1     6\n",
       "Jonkheer       0     1\n",
       "Lady           1     0\n",
       "Major          0     2\n",
       "Master         0    40\n",
       "Miss         182     0\n",
       "Mlle           2     0\n",
       "Mme            1     0\n",
       "Mr             0   517\n",
       "Mrs          125     0\n",
       "Ms             1     0\n",
       "Rev            0     6\n",
       "Sir            0     1"
      ]
     },
     "execution_count": 24,
     "metadata": {},
     "output_type": "execute_result"
    }
   ],
   "source": [
    "combine =[train,test]\n",
    "\n",
    "for dataset in combine:\n",
    "    dataset['Title'] = dataset.Name.str.extract(' ([A-Za-z]+)\\.' ,expand=False)\n",
    "    \n",
    "pd.crosstab(train['Title'],train['Sex'])"
   ]
  },
  {
   "cell_type": "code",
   "execution_count": 25,
   "id": "d3b1bfbc",
   "metadata": {
    "execution": {
     "iopub.execute_input": "2023-06-17T15:08:12.079074Z",
     "iopub.status.busy": "2023-06-17T15:08:12.078325Z",
     "iopub.status.idle": "2023-06-17T15:08:12.100040Z",
     "shell.execute_reply": "2023-06-17T15:08:12.098836Z"
    },
    "papermill": {
     "duration": 0.038251,
     "end_time": "2023-06-17T15:08:12.102651",
     "exception": false,
     "start_time": "2023-06-17T15:08:12.064400",
     "status": "completed"
    },
    "tags": []
   },
   "outputs": [
    {
     "data": {
      "text/html": [
       "<div>\n",
       "<style scoped>\n",
       "    .dataframe tbody tr th:only-of-type {\n",
       "        vertical-align: middle;\n",
       "    }\n",
       "\n",
       "    .dataframe tbody tr th {\n",
       "        vertical-align: top;\n",
       "    }\n",
       "\n",
       "    .dataframe thead th {\n",
       "        text-align: right;\n",
       "    }\n",
       "</style>\n",
       "<table border=\"1\" class=\"dataframe\">\n",
       "  <thead>\n",
       "    <tr style=\"text-align: right;\">\n",
       "      <th></th>\n",
       "      <th>Title</th>\n",
       "      <th>Survived</th>\n",
       "    </tr>\n",
       "  </thead>\n",
       "  <tbody>\n",
       "    <tr>\n",
       "      <th>0</th>\n",
       "      <td>Master</td>\n",
       "      <td>0.575000</td>\n",
       "    </tr>\n",
       "    <tr>\n",
       "      <th>1</th>\n",
       "      <td>Miss</td>\n",
       "      <td>0.702703</td>\n",
       "    </tr>\n",
       "    <tr>\n",
       "      <th>2</th>\n",
       "      <td>Mr</td>\n",
       "      <td>0.156673</td>\n",
       "    </tr>\n",
       "    <tr>\n",
       "      <th>3</th>\n",
       "      <td>Mrs</td>\n",
       "      <td>0.793651</td>\n",
       "    </tr>\n",
       "    <tr>\n",
       "      <th>4</th>\n",
       "      <td>Rare</td>\n",
       "      <td>0.285714</td>\n",
       "    </tr>\n",
       "    <tr>\n",
       "      <th>5</th>\n",
       "      <td>Royal</td>\n",
       "      <td>1.000000</td>\n",
       "    </tr>\n",
       "  </tbody>\n",
       "</table>\n",
       "</div>"
      ],
      "text/plain": [
       "    Title  Survived\n",
       "0  Master  0.575000\n",
       "1    Miss  0.702703\n",
       "2      Mr  0.156673\n",
       "3     Mrs  0.793651\n",
       "4    Rare  0.285714\n",
       "5   Royal  1.000000"
      ]
     },
     "execution_count": 25,
     "metadata": {},
     "output_type": "execute_result"
    }
   ],
   "source": [
    "for dataset in combine:\n",
    "    dataset['Title'] = dataset['Title'].replace(['Lady', 'Capt', 'Col', 'Don', 'Dr', 'Major', 'Rev', 'Jonkheer', 'Dona'], 'Rare')\n",
    "\n",
    "    dataset['Title'] = dataset['Title'].replace(['Countess', 'Lady', 'Sir'], 'Royal')\n",
    "    dataset['Title'] = dataset['Title'].replace('Mlle', 'Miss')\n",
    "    dataset['Title'] = dataset['Title'].replace('Mme', 'Mrs')\n",
    "    dataset['Title'] = dataset['Title'].replace('Ms', 'Miss') \n",
    "train[['Title','Survived']].groupby(['Title'], as_index= False).mean()"
   ]
  },
  {
   "cell_type": "code",
   "execution_count": 26,
   "id": "d114df16",
   "metadata": {
    "execution": {
     "iopub.execute_input": "2023-06-17T15:08:12.130436Z",
     "iopub.status.busy": "2023-06-17T15:08:12.129695Z",
     "iopub.status.idle": "2023-06-17T15:08:12.138636Z",
     "shell.execute_reply": "2023-06-17T15:08:12.137589Z"
    },
    "papermill": {
     "duration": 0.025829,
     "end_time": "2023-06-17T15:08:12.141045",
     "exception": false,
     "start_time": "2023-06-17T15:08:12.115216",
     "status": "completed"
    },
    "tags": []
   },
   "outputs": [],
   "source": [
    "title_mapping = {'Mr':1,'Miss':2,'Mrs':3,'Master':4,'Royal':5,'Rare':6}\n",
    "\n",
    "for dataset in combine:\n",
    "    dataset['Title'] = dataset['Title'].map(title_mapping)\n",
    "    dataset['Title'] = dataset['Title'].fillna(0)\n",
    "    "
   ]
  },
  {
   "cell_type": "code",
   "execution_count": 27,
   "id": "81349b09",
   "metadata": {
    "execution": {
     "iopub.execute_input": "2023-06-17T15:08:12.168286Z",
     "iopub.status.busy": "2023-06-17T15:08:12.167611Z",
     "iopub.status.idle": "2023-06-17T15:08:12.180739Z",
     "shell.execute_reply": "2023-06-17T15:08:12.180001Z"
    },
    "papermill": {
     "duration": 0.02906,
     "end_time": "2023-06-17T15:08:12.182744",
     "exception": false,
     "start_time": "2023-06-17T15:08:12.153684",
     "status": "completed"
    },
    "tags": []
   },
   "outputs": [
    {
     "data": {
      "text/html": [
       "<div>\n",
       "<style scoped>\n",
       "    .dataframe tbody tr th:only-of-type {\n",
       "        vertical-align: middle;\n",
       "    }\n",
       "\n",
       "    .dataframe tbody tr th {\n",
       "        vertical-align: top;\n",
       "    }\n",
       "\n",
       "    .dataframe thead th {\n",
       "        text-align: right;\n",
       "    }\n",
       "</style>\n",
       "<table border=\"1\" class=\"dataframe\">\n",
       "  <thead>\n",
       "    <tr style=\"text-align: right;\">\n",
       "      <th></th>\n",
       "      <th>PassengerId</th>\n",
       "      <th>Survived</th>\n",
       "      <th>Pclass</th>\n",
       "      <th>Name</th>\n",
       "      <th>Sex</th>\n",
       "      <th>Age</th>\n",
       "      <th>SibSp</th>\n",
       "      <th>Parch</th>\n",
       "      <th>Embarked</th>\n",
       "      <th>AgeGroup</th>\n",
       "      <th>Title</th>\n",
       "    </tr>\n",
       "  </thead>\n",
       "  <tbody>\n",
       "    <tr>\n",
       "      <th>0</th>\n",
       "      <td>1</td>\n",
       "      <td>0</td>\n",
       "      <td>3</td>\n",
       "      <td>Braund, Mr. Owen Harris</td>\n",
       "      <td>male</td>\n",
       "      <td>22.0</td>\n",
       "      <td>1</td>\n",
       "      <td>0</td>\n",
       "      <td>S</td>\n",
       "      <td>Student</td>\n",
       "      <td>1</td>\n",
       "    </tr>\n",
       "    <tr>\n",
       "      <th>1</th>\n",
       "      <td>2</td>\n",
       "      <td>1</td>\n",
       "      <td>1</td>\n",
       "      <td>Cumings, Mrs. John Bradley (Florence Briggs Th...</td>\n",
       "      <td>female</td>\n",
       "      <td>38.0</td>\n",
       "      <td>1</td>\n",
       "      <td>0</td>\n",
       "      <td>C</td>\n",
       "      <td>Adult</td>\n",
       "      <td>3</td>\n",
       "    </tr>\n",
       "    <tr>\n",
       "      <th>2</th>\n",
       "      <td>3</td>\n",
       "      <td>1</td>\n",
       "      <td>3</td>\n",
       "      <td>Heikkinen, Miss. Laina</td>\n",
       "      <td>female</td>\n",
       "      <td>26.0</td>\n",
       "      <td>0</td>\n",
       "      <td>0</td>\n",
       "      <td>S</td>\n",
       "      <td>Young Adult</td>\n",
       "      <td>2</td>\n",
       "    </tr>\n",
       "    <tr>\n",
       "      <th>3</th>\n",
       "      <td>4</td>\n",
       "      <td>1</td>\n",
       "      <td>1</td>\n",
       "      <td>Futrelle, Mrs. Jacques Heath (Lily May Peel)</td>\n",
       "      <td>female</td>\n",
       "      <td>35.0</td>\n",
       "      <td>1</td>\n",
       "      <td>0</td>\n",
       "      <td>S</td>\n",
       "      <td>Young Adult</td>\n",
       "      <td>3</td>\n",
       "    </tr>\n",
       "    <tr>\n",
       "      <th>4</th>\n",
       "      <td>5</td>\n",
       "      <td>0</td>\n",
       "      <td>3</td>\n",
       "      <td>Allen, Mr. William Henry</td>\n",
       "      <td>male</td>\n",
       "      <td>35.0</td>\n",
       "      <td>0</td>\n",
       "      <td>0</td>\n",
       "      <td>S</td>\n",
       "      <td>Young Adult</td>\n",
       "      <td>1</td>\n",
       "    </tr>\n",
       "  </tbody>\n",
       "</table>\n",
       "</div>"
      ],
      "text/plain": [
       "   PassengerId  Survived  Pclass  \\\n",
       "0            1         0       3   \n",
       "1            2         1       1   \n",
       "2            3         1       3   \n",
       "3            4         1       1   \n",
       "4            5         0       3   \n",
       "\n",
       "                                                Name     Sex   Age  SibSp  \\\n",
       "0                            Braund, Mr. Owen Harris    male  22.0      1   \n",
       "1  Cumings, Mrs. John Bradley (Florence Briggs Th...  female  38.0      1   \n",
       "2                             Heikkinen, Miss. Laina  female  26.0      0   \n",
       "3       Futrelle, Mrs. Jacques Heath (Lily May Peel)  female  35.0      1   \n",
       "4                           Allen, Mr. William Henry    male  35.0      0   \n",
       "\n",
       "   Parch Embarked     AgeGroup  Title  \n",
       "0      0        S      Student      1  \n",
       "1      0        C        Adult      3  \n",
       "2      0        S  Young Adult      2  \n",
       "3      0        S  Young Adult      3  \n",
       "4      0        S  Young Adult      1  "
      ]
     },
     "execution_count": 27,
     "metadata": {},
     "output_type": "execute_result"
    }
   ],
   "source": [
    "train.head()"
   ]
  },
  {
   "cell_type": "code",
   "execution_count": 28,
   "id": "3a1d942f",
   "metadata": {
    "execution": {
     "iopub.execute_input": "2023-06-17T15:08:12.210424Z",
     "iopub.status.busy": "2023-06-17T15:08:12.209720Z",
     "iopub.status.idle": "2023-06-17T15:08:12.223000Z",
     "shell.execute_reply": "2023-06-17T15:08:12.221903Z"
    },
    "papermill": {
     "duration": 0.030049,
     "end_time": "2023-06-17T15:08:12.225546",
     "exception": false,
     "start_time": "2023-06-17T15:08:12.195497",
     "status": "completed"
    },
    "tags": []
   },
   "outputs": [],
   "source": [
    "mr_age = train[train['Title'] == 1]['AgeGroup'].mode()\n",
    "miss_age = train[train['Title'] ==2]['AgeGroup'].mode()\n",
    "miss_age = train[train['Title'] ==3]['AgeGroup'].mode()\n",
    "master_age = train[train['Title'] ==4]['AgeGroup'].mode()\n",
    "royal_age = train[train['Title'] ==5]['AgeGroup'].mode()\n",
    "rare_age = train[train['Title'] ==6]['AgeGroup'].mode()"
   ]
  },
  {
   "cell_type": "code",
   "execution_count": 29,
   "id": "b26f4fbc",
   "metadata": {
    "execution": {
     "iopub.execute_input": "2023-06-17T15:08:12.253527Z",
     "iopub.status.busy": "2023-06-17T15:08:12.253100Z",
     "iopub.status.idle": "2023-06-17T15:08:12.264454Z",
     "shell.execute_reply": "2023-06-17T15:08:12.263399Z"
    },
    "papermill": {
     "duration": 0.027833,
     "end_time": "2023-06-17T15:08:12.266651",
     "exception": false,
     "start_time": "2023-06-17T15:08:12.238818",
     "status": "completed"
    },
    "tags": []
   },
   "outputs": [
    {
     "data": {
      "text/plain": [
       "(0    Young Adult\n",
       " Name: AgeGroup, dtype: category\n",
       " Categories (8, object): ['Unknown' < 'Baby' < 'Child' < 'Teenager' < 'Student' < 'Young Adult' < 'Adult' < 'Senior'],\n",
       " 0    Adult\n",
       " Name: AgeGroup, dtype: category\n",
       " Categories (8, object): ['Unknown' < 'Baby' < 'Child' < 'Teenager' < 'Student' < 'Young Adult' < 'Adult' < 'Senior'],\n",
       " 0    Adult\n",
       " Name: AgeGroup, dtype: category\n",
       " Categories (8, object): ['Unknown' < 'Baby' < 'Child' < 'Teenager' < 'Student' < 'Young Adult' < 'Adult' < 'Senior'],\n",
       " 0    Baby\n",
       " Name: AgeGroup, dtype: category\n",
       " Categories (8, object): ['Unknown' < 'Baby' < 'Child' < 'Teenager' < 'Student' < 'Young Adult' < 'Adult' < 'Senior'],\n",
       " 0    Young Adult\n",
       " 1          Adult\n",
       " Name: AgeGroup, dtype: category\n",
       " Categories (8, object): ['Unknown' < 'Baby' < 'Child' < 'Teenager' < 'Student' < 'Young Adult' < 'Adult' < 'Senior'],\n",
       " 0    Adult\n",
       " Name: AgeGroup, dtype: category\n",
       " Categories (8, object): ['Unknown' < 'Baby' < 'Child' < 'Teenager' < 'Student' < 'Young Adult' < 'Adult' < 'Senior'])"
      ]
     },
     "execution_count": 29,
     "metadata": {},
     "output_type": "execute_result"
    }
   ],
   "source": [
    "mr_age,miss_age,miss_age,master_age,royal_age,rare_age"
   ]
  },
  {
   "cell_type": "code",
   "execution_count": 30,
   "id": "546fedcb",
   "metadata": {
    "execution": {
     "iopub.execute_input": "2023-06-17T15:08:12.297680Z",
     "iopub.status.busy": "2023-06-17T15:08:12.296290Z",
     "iopub.status.idle": "2023-06-17T15:08:12.330410Z",
     "shell.execute_reply": "2023-06-17T15:08:12.329317Z"
    },
    "papermill": {
     "duration": 0.053461,
     "end_time": "2023-06-17T15:08:12.333009",
     "exception": false,
     "start_time": "2023-06-17T15:08:12.279548",
     "status": "completed"
    },
    "tags": []
   },
   "outputs": [],
   "source": [
    "age_title_map ={1:'Young Adult',2:'Student',3:'Adult',4:'Baby',5:'Adult',6:'Adult'}\n",
    "\n",
    "for i in range(len(train['AgeGroup'])):\n",
    "    if train['AgeGroup'][i] == 'Unknown':\n",
    "        train['AgeGroup'][i] = age_title_map[train['Title'][i]]\n",
    "        \n",
    "for i in range(len(test['AgeGroup'])):\n",
    "    if test['AgeGroup'][i] == 'Unknown':\n",
    "        test['AgeGroup'][i] = age_title_map[test['Title'][i]]\n"
   ]
  },
  {
   "cell_type": "code",
   "execution_count": 31,
   "id": "e756353f",
   "metadata": {
    "execution": {
     "iopub.execute_input": "2023-06-17T15:08:12.362111Z",
     "iopub.status.busy": "2023-06-17T15:08:12.361233Z",
     "iopub.status.idle": "2023-06-17T15:08:12.369436Z",
     "shell.execute_reply": "2023-06-17T15:08:12.368661Z"
    },
    "papermill": {
     "duration": 0.025675,
     "end_time": "2023-06-17T15:08:12.371743",
     "exception": false,
     "start_time": "2023-06-17T15:08:12.346068",
     "status": "completed"
    },
    "tags": []
   },
   "outputs": [
    {
     "data": {
      "text/plain": [
       "['Student', 'Adult', 'Young Adult', 'Baby', 'Teenager', 'Child', 'Senior']\n",
       "Categories (8, object): ['Unknown' < 'Baby' < 'Child' < 'Teenager' < 'Student' < 'Young Adult' < 'Adult' < 'Senior']"
      ]
     },
     "execution_count": 31,
     "metadata": {},
     "output_type": "execute_result"
    }
   ],
   "source": [
    "train.AgeGroup.unique()"
   ]
  },
  {
   "cell_type": "code",
   "execution_count": 32,
   "id": "49fa694e",
   "metadata": {
    "execution": {
     "iopub.execute_input": "2023-06-17T15:08:12.399788Z",
     "iopub.status.busy": "2023-06-17T15:08:12.399391Z",
     "iopub.status.idle": "2023-06-17T15:08:12.413653Z",
     "shell.execute_reply": "2023-06-17T15:08:12.412537Z"
    },
    "papermill": {
     "duration": 0.031083,
     "end_time": "2023-06-17T15:08:12.415944",
     "exception": false,
     "start_time": "2023-06-17T15:08:12.384861",
     "status": "completed"
    },
    "tags": []
   },
   "outputs": [
    {
     "data": {
      "text/html": [
       "<div>\n",
       "<style scoped>\n",
       "    .dataframe tbody tr th:only-of-type {\n",
       "        vertical-align: middle;\n",
       "    }\n",
       "\n",
       "    .dataframe tbody tr th {\n",
       "        vertical-align: top;\n",
       "    }\n",
       "\n",
       "    .dataframe thead th {\n",
       "        text-align: right;\n",
       "    }\n",
       "</style>\n",
       "<table border=\"1\" class=\"dataframe\">\n",
       "  <thead>\n",
       "    <tr style=\"text-align: right;\">\n",
       "      <th></th>\n",
       "      <th>PassengerId</th>\n",
       "      <th>Survived</th>\n",
       "      <th>Pclass</th>\n",
       "      <th>Name</th>\n",
       "      <th>Sex</th>\n",
       "      <th>Age</th>\n",
       "      <th>SibSp</th>\n",
       "      <th>Parch</th>\n",
       "      <th>Embarked</th>\n",
       "      <th>AgeGroup</th>\n",
       "      <th>Title</th>\n",
       "    </tr>\n",
       "  </thead>\n",
       "  <tbody>\n",
       "    <tr>\n",
       "      <th>0</th>\n",
       "      <td>1</td>\n",
       "      <td>0</td>\n",
       "      <td>3</td>\n",
       "      <td>Braund, Mr. Owen Harris</td>\n",
       "      <td>male</td>\n",
       "      <td>22.0</td>\n",
       "      <td>1</td>\n",
       "      <td>0</td>\n",
       "      <td>S</td>\n",
       "      <td>Student</td>\n",
       "      <td>1</td>\n",
       "    </tr>\n",
       "    <tr>\n",
       "      <th>1</th>\n",
       "      <td>2</td>\n",
       "      <td>1</td>\n",
       "      <td>1</td>\n",
       "      <td>Cumings, Mrs. John Bradley (Florence Briggs Th...</td>\n",
       "      <td>female</td>\n",
       "      <td>38.0</td>\n",
       "      <td>1</td>\n",
       "      <td>0</td>\n",
       "      <td>C</td>\n",
       "      <td>Adult</td>\n",
       "      <td>3</td>\n",
       "    </tr>\n",
       "  </tbody>\n",
       "</table>\n",
       "</div>"
      ],
      "text/plain": [
       "   PassengerId  Survived  Pclass  \\\n",
       "0            1         0       3   \n",
       "1            2         1       1   \n",
       "\n",
       "                                                Name     Sex   Age  SibSp  \\\n",
       "0                            Braund, Mr. Owen Harris    male  22.0      1   \n",
       "1  Cumings, Mrs. John Bradley (Florence Briggs Th...  female  38.0      1   \n",
       "\n",
       "   Parch Embarked AgeGroup  Title  \n",
       "0      0        S  Student      1  \n",
       "1      0        C    Adult      3  "
      ]
     },
     "execution_count": 32,
     "metadata": {},
     "output_type": "execute_result"
    }
   ],
   "source": [
    "train.head(2)"
   ]
  },
  {
   "cell_type": "code",
   "execution_count": 33,
   "id": "b32747f6",
   "metadata": {
    "execution": {
     "iopub.execute_input": "2023-06-17T15:08:12.445531Z",
     "iopub.status.busy": "2023-06-17T15:08:12.445131Z",
     "iopub.status.idle": "2023-06-17T15:08:12.452817Z",
     "shell.execute_reply": "2023-06-17T15:08:12.451874Z"
    },
    "papermill": {
     "duration": 0.025687,
     "end_time": "2023-06-17T15:08:12.454975",
     "exception": false,
     "start_time": "2023-06-17T15:08:12.429288",
     "status": "completed"
    },
    "tags": []
   },
   "outputs": [
    {
     "data": {
      "text/plain": [
       "PassengerId       int64\n",
       "Survived          int64\n",
       "Pclass            int64\n",
       "Name             object\n",
       "Sex              object\n",
       "Age             float64\n",
       "SibSp             int64\n",
       "Parch             int64\n",
       "Embarked         object\n",
       "AgeGroup       category\n",
       "Title             int64\n",
       "dtype: object"
      ]
     },
     "execution_count": 33,
     "metadata": {},
     "output_type": "execute_result"
    }
   ],
   "source": [
    "train.dtypes"
   ]
  },
  {
   "cell_type": "markdown",
   "id": "680cc69f",
   "metadata": {
    "papermill": {
     "duration": 0.013131,
     "end_time": "2023-06-17T15:08:12.481990",
     "exception": false,
     "start_time": "2023-06-17T15:08:12.468859",
     "status": "completed"
    },
    "tags": []
   },
   "source": [
    "## Machine Learning Model"
   ]
  },
  {
   "cell_type": "code",
   "execution_count": 34,
   "id": "f0705235",
   "metadata": {
    "execution": {
     "iopub.execute_input": "2023-06-17T15:08:12.510772Z",
     "iopub.status.busy": "2023-06-17T15:08:12.510114Z",
     "iopub.status.idle": "2023-06-17T15:08:12.516885Z",
     "shell.execute_reply": "2023-06-17T15:08:12.516086Z"
    },
    "papermill": {
     "duration": 0.023768,
     "end_time": "2023-06-17T15:08:12.519126",
     "exception": false,
     "start_time": "2023-06-17T15:08:12.495358",
     "status": "completed"
    },
    "tags": []
   },
   "outputs": [],
   "source": [
    "from sklearn.preprocessing import LabelEncoder\n",
    "\n",
    "transform = ['Sex', 'AgeGroup', 'Embarked']\n",
    "le = LabelEncoder()\n",
    "\n",
    "for i in transform:\n",
    "    train[i] = le.fit_transform(train[i])\n"
   ]
  },
  {
   "cell_type": "code",
   "execution_count": 35,
   "id": "d8d8349e",
   "metadata": {
    "execution": {
     "iopub.execute_input": "2023-06-17T15:08:12.547612Z",
     "iopub.status.busy": "2023-06-17T15:08:12.547186Z",
     "iopub.status.idle": "2023-06-17T15:08:12.554465Z",
     "shell.execute_reply": "2023-06-17T15:08:12.553376Z"
    },
    "papermill": {
     "duration": 0.024236,
     "end_time": "2023-06-17T15:08:12.556636",
     "exception": false,
     "start_time": "2023-06-17T15:08:12.532400",
     "status": "completed"
    },
    "tags": []
   },
   "outputs": [],
   "source": [
    "for i in transform:\n",
    "    test[i] = le.fit_transform(test[i])"
   ]
  },
  {
   "cell_type": "code",
   "execution_count": 36,
   "id": "219520d1",
   "metadata": {
    "execution": {
     "iopub.execute_input": "2023-06-17T15:08:12.586438Z",
     "iopub.status.busy": "2023-06-17T15:08:12.585627Z",
     "iopub.status.idle": "2023-06-17T15:08:12.598765Z",
     "shell.execute_reply": "2023-06-17T15:08:12.597658Z"
    },
    "papermill": {
     "duration": 0.031048,
     "end_time": "2023-06-17T15:08:12.601458",
     "exception": false,
     "start_time": "2023-06-17T15:08:12.570410",
     "status": "completed"
    },
    "tags": []
   },
   "outputs": [
    {
     "data": {
      "text/html": [
       "<div>\n",
       "<style scoped>\n",
       "    .dataframe tbody tr th:only-of-type {\n",
       "        vertical-align: middle;\n",
       "    }\n",
       "\n",
       "    .dataframe tbody tr th {\n",
       "        vertical-align: top;\n",
       "    }\n",
       "\n",
       "    .dataframe thead th {\n",
       "        text-align: right;\n",
       "    }\n",
       "</style>\n",
       "<table border=\"1\" class=\"dataframe\">\n",
       "  <thead>\n",
       "    <tr style=\"text-align: right;\">\n",
       "      <th></th>\n",
       "      <th>PassengerId</th>\n",
       "      <th>Pclass</th>\n",
       "      <th>Name</th>\n",
       "      <th>Sex</th>\n",
       "      <th>Age</th>\n",
       "      <th>SibSp</th>\n",
       "      <th>Parch</th>\n",
       "      <th>Embarked</th>\n",
       "      <th>AgeGroup</th>\n",
       "      <th>Title</th>\n",
       "    </tr>\n",
       "  </thead>\n",
       "  <tbody>\n",
       "    <tr>\n",
       "      <th>0</th>\n",
       "      <td>892</td>\n",
       "      <td>3</td>\n",
       "      <td>Kelly, Mr. James</td>\n",
       "      <td>1</td>\n",
       "      <td>34.5</td>\n",
       "      <td>0</td>\n",
       "      <td>0</td>\n",
       "      <td>1</td>\n",
       "      <td>6</td>\n",
       "      <td>1</td>\n",
       "    </tr>\n",
       "    <tr>\n",
       "      <th>1</th>\n",
       "      <td>893</td>\n",
       "      <td>3</td>\n",
       "      <td>Wilkes, Mrs. James (Ellen Needs)</td>\n",
       "      <td>0</td>\n",
       "      <td>47.0</td>\n",
       "      <td>1</td>\n",
       "      <td>0</td>\n",
       "      <td>2</td>\n",
       "      <td>0</td>\n",
       "      <td>3</td>\n",
       "    </tr>\n",
       "  </tbody>\n",
       "</table>\n",
       "</div>"
      ],
      "text/plain": [
       "   PassengerId  Pclass                              Name  Sex   Age  SibSp  \\\n",
       "0          892       3                  Kelly, Mr. James    1  34.5      0   \n",
       "1          893       3  Wilkes, Mrs. James (Ellen Needs)    0  47.0      1   \n",
       "\n",
       "   Parch  Embarked  AgeGroup  Title  \n",
       "0      0         1         6      1  \n",
       "1      0         2         0      3  "
      ]
     },
     "execution_count": 36,
     "metadata": {},
     "output_type": "execute_result"
    }
   ],
   "source": [
    "test.head(2)"
   ]
  },
  {
   "cell_type": "code",
   "execution_count": 37,
   "id": "aefefb84",
   "metadata": {
    "execution": {
     "iopub.execute_input": "2023-06-17T15:08:12.630494Z",
     "iopub.status.busy": "2023-06-17T15:08:12.629844Z",
     "iopub.status.idle": "2023-06-17T15:08:12.636910Z",
     "shell.execute_reply": "2023-06-17T15:08:12.636099Z"
    },
    "papermill": {
     "duration": 0.023935,
     "end_time": "2023-06-17T15:08:12.639010",
     "exception": false,
     "start_time": "2023-06-17T15:08:12.615075",
     "status": "completed"
    },
    "tags": []
   },
   "outputs": [],
   "source": [
    "xtrain = train.drop(['PassengerId','Name','Survived'],axis=1)\n",
    "ytrain = train['Survived']\n",
    "xtest = test.drop(['PassengerId','Name'],axis=1)"
   ]
  },
  {
   "cell_type": "code",
   "execution_count": 38,
   "id": "e6895721",
   "metadata": {
    "execution": {
     "iopub.execute_input": "2023-06-17T15:08:12.668507Z",
     "iopub.status.busy": "2023-06-17T15:08:12.667737Z",
     "iopub.status.idle": "2023-06-17T15:08:12.694437Z",
     "shell.execute_reply": "2023-06-17T15:08:12.693238Z"
    },
    "papermill": {
     "duration": 0.044571,
     "end_time": "2023-06-17T15:08:12.697060",
     "exception": false,
     "start_time": "2023-06-17T15:08:12.652489",
     "status": "completed"
    },
    "tags": []
   },
   "outputs": [],
   "source": [
    "from sklearn.linear_model import LogisticRegression\n",
    "\n",
    "lr = LogisticRegression()\n",
    "lr.fit(xtrain,ytrain)\n",
    "predictions = lr.predict(xtest)"
   ]
  },
  {
   "cell_type": "code",
   "execution_count": 40,
   "id": "8606d114",
   "metadata": {
    "execution": {
     "iopub.execute_input": "2023-06-17T15:08:12.726806Z",
     "iopub.status.busy": "2023-06-17T15:08:12.726159Z",
     "iopub.status.idle": "2023-06-17T15:08:12.733842Z",
     "shell.execute_reply": "2023-06-17T15:08:12.732662Z"
    },
    "papermill": {
     "duration": 0.025399,
     "end_time": "2023-06-17T15:08:12.736274",
     "exception": false,
     "start_time": "2023-06-17T15:08:12.710875",
     "status": "completed"
    },
    "tags": []
   },
   "outputs": [
    {
     "data": {
      "text/plain": [
       "array([0, 1, 0, 0, 1, 0, 1, 0, 1, 0, 0, 0, 1, 0, 1, 1, 0, 0, 0, 1, 0, 0,\n",
       "       1, 0, 1, 0, 1, 0, 0, 0, 0, 0, 1, 1, 0, 0, 1, 1, 0, 0, 0, 1, 0, 1,\n",
       "       1, 0, 0, 0, 1, 1, 0, 0, 1, 1, 0, 0, 0, 0, 0, 1, 0, 0, 0, 1, 1, 1,\n",
       "       1, 0, 0, 1, 1, 0, 1, 0, 1, 0, 0, 1, 0, 1, 0, 0, 0, 0, 0, 0, 1, 1,\n",
       "       1, 0, 1, 0, 1, 0, 0, 0, 1, 0, 1, 0, 1, 0, 0, 0, 1, 0, 0, 0, 0, 0,\n",
       "       0, 1, 1, 1, 1, 0, 0, 1, 0, 1, 1, 0, 1, 0, 0, 1, 0, 1, 0, 0, 0, 1,\n",
       "       1, 0, 0, 0, 0, 0, 1, 0, 0, 1, 0, 0, 0, 0, 1, 0, 1, 0, 1, 0, 0, 1,\n",
       "       0, 0, 1, 1, 0, 1, 1, 0, 1, 0, 1, 1, 0, 0, 1, 1, 0, 0, 0, 0, 0, 1,\n",
       "       1, 0, 1, 1, 0, 0, 1, 0, 1, 0, 1, 0, 0, 0, 0, 1, 0, 0, 0, 0, 1, 1,\n",
       "       0, 1, 1, 0, 1, 1, 0, 1, 1, 0, 1, 0, 0, 0, 0, 1, 0, 0, 1, 0, 1, 0,\n",
       "       1, 0, 1, 0, 1, 1, 0, 1, 0, 0, 0, 1, 0, 0, 0, 0, 0, 0, 1, 1, 1, 1,\n",
       "       0, 0, 0, 0, 1, 0, 1, 1, 1, 0, 0, 0, 0, 0, 0, 0, 1, 0, 0, 0, 1, 1,\n",
       "       0, 0, 1, 0, 1, 0, 0, 0, 1, 1, 0, 1, 0, 0, 0, 0, 1, 0, 1, 1, 1, 0,\n",
       "       0, 0, 0, 0, 1, 1, 0, 1, 0, 0, 1, 0, 0, 0, 0, 0, 0, 0, 1, 1, 0, 0,\n",
       "       0, 1, 0, 0, 0, 1, 1, 1, 0, 0, 0, 0, 0, 0, 0, 0, 1, 0, 1, 0, 0, 0,\n",
       "       1, 0, 0, 1, 0, 0, 0, 0, 0, 0, 0, 0, 0, 1, 0, 1, 0, 1, 0, 1, 1, 0,\n",
       "       0, 0, 1, 0, 1, 0, 0, 1, 0, 1, 1, 0, 1, 1, 0, 1, 1, 0, 0, 1, 0, 0,\n",
       "       1, 1, 0, 0, 0, 0, 0, 0, 1, 1, 0, 1, 0, 0, 0, 0, 0, 1, 0, 0, 0, 1,\n",
       "       0, 1, 0, 0, 1, 0, 1, 0, 0, 0, 0, 0, 1, 1, 1, 1, 1, 0, 1, 0, 0, 0],\n",
       "      dtype=int64)"
      ]
     },
     "execution_count": 40,
     "metadata": {},
     "output_type": "execute_result"
    }
   ],
   "source": [
    "predictions"
   ]
  },
  {
   "cell_type": "code",
   "execution_count": null,
   "id": "27ebd863",
   "metadata": {
    "execution": {
     "iopub.execute_input": "2023-06-17T15:08:12.766126Z",
     "iopub.status.busy": "2023-06-17T15:08:12.765759Z",
     "iopub.status.idle": "2023-06-17T15:08:12.777402Z",
     "shell.execute_reply": "2023-06-17T15:08:12.776323Z"
    },
    "papermill": {
     "duration": 0.03006,
     "end_time": "2023-06-17T15:08:12.780056",
     "exception": false,
     "start_time": "2023-06-17T15:08:12.749996",
     "status": "completed"
    },
    "tags": []
   },
   "outputs": [],
   "source": []
  },
  {
   "cell_type": "code",
   "execution_count": null,
   "id": "9973138e",
   "metadata": {
    "papermill": {
     "duration": 0.014235,
     "end_time": "2023-06-17T15:08:12.808188",
     "exception": false,
     "start_time": "2023-06-17T15:08:12.793953",
     "status": "completed"
    },
    "tags": []
   },
   "outputs": [],
   "source": []
  }
 ],
 "metadata": {
  "kernelspec": {
   "display_name": "Python 3",
   "language": "python",
   "name": "python3"
  },
  "language_info": {
   "codemirror_mode": {
    "name": "ipython",
    "version": 3
   },
   "file_extension": ".py",
   "mimetype": "text/x-python",
   "name": "python",
   "nbconvert_exporter": "python",
   "pygments_lexer": "ipython3",
   "version": "3.11.4"
  },
  "papermill": {
   "default_parameters": {},
   "duration": 16.779092,
   "end_time": "2023-06-17T15:08:13.844270",
   "environment_variables": {},
   "exception": null,
   "input_path": "__notebook__.ipynb",
   "output_path": "__notebook__.ipynb",
   "parameters": {},
   "start_time": "2023-06-17T15:07:57.065178",
   "version": "2.4.0"
  }
 },
 "nbformat": 4,
 "nbformat_minor": 5
}
